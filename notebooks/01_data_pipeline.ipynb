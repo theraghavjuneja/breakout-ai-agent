{
 "cells": [
  {
   "cell_type": "code",
   "execution_count": 1,
   "metadata": {},
   "outputs": [],
   "source": [
    "import requests\n",
    "import json\n",
    "from pprint import pprint\n"
   ]
  },
  {
   "cell_type": "code",
   "execution_count": 3,
   "metadata": {},
   "outputs": [],
   "source": [
    "from langchain_google_genai import ChatGoogleGenerativeAI\n",
    "from langchain_groq import ChatGroq\n",
    "from langchain.agents import load_tools\n",
    "from langchain.agents import initialize_agent\n",
    "from langchain_community.utilities import SerpAPIWrapper"
   ]
  },
  {
   "cell_type": "code",
   "execution_count": 92,
   "metadata": {},
   "outputs": [
    {
     "data": {
      "text/plain": [
       "True"
      ]
     },
     "execution_count": 92,
     "metadata": {},
     "output_type": "execute_result"
    }
   ],
   "source": [
    "from dotenv import load_dotenv\n",
    "load_dotenv()"
   ]
  },
  {
   "cell_type": "code",
   "execution_count": 18,
   "metadata": {},
   "outputs": [],
   "source": [
    "search=SerpAPIWrapper()\n",
    "response=search.run(\"What is the email address of company Where U Elevate?\")"
   ]
  },
  {
   "cell_type": "code",
   "execution_count": 17,
   "metadata": {},
   "outputs": [
    {
     "name": "stdout",
     "output_type": "stream",
     "text": [
      "Help on SerpAPIWrapper in module langchain_community.utilities.serpapi object:\n",
      "\n",
      "class SerpAPIWrapper(pydantic.main.BaseModel)\n",
      " |  SerpAPIWrapper(*, search_engine: Any = None, params: dict = {'engine': 'google', 'google_domain': 'google.com', 'gl': 'us', 'hl': 'en'}, serpapi_api_key: Optional[str] = None, aiosession: Optional[aiohttp.client.ClientSession] = None) -> None\n",
      " |  \n",
      " |  Wrapper around SerpAPI.\n",
      " |  \n",
      " |  To use, you should have the ``google-search-results`` python package installed,\n",
      " |  and the environment variable ``SERPAPI_API_KEY`` set with your API key, or pass\n",
      " |  `serpapi_api_key` as a named parameter to the constructor.\n",
      " |  \n",
      " |  Example:\n",
      " |      .. code-block:: python\n",
      " |  \n",
      " |          from langchain_community.utilities import SerpAPIWrapper\n",
      " |          serpapi = SerpAPIWrapper()\n",
      " |  \n",
      " |  Method resolution order:\n",
      " |      SerpAPIWrapper\n",
      " |      pydantic.main.BaseModel\n",
      " |      pydantic.utils.Representation\n",
      " |      builtins.object\n",
      " |  \n",
      " |  Methods defined here:\n",
      " |  \n",
      " |  async aresults(self, query: str) -> dict\n",
      " |      Use aiohttp to run query through SerpAPI and return the results async.\n",
      " |  \n",
      " |  async arun(self, query: str, **kwargs: Any) -> str\n",
      " |      Run query through SerpAPI and parse result async.\n",
      " |  \n",
      " |  get_params(self, query: str) -> Dict[str, str]\n",
      " |      Get parameters for SerpAPI.\n",
      " |  \n",
      " |  results(self, query: str) -> dict\n",
      " |      Run query through SerpAPI and return the raw result.\n",
      " |  \n",
      " |  run(self, query: str, **kwargs: Any) -> str\n",
      " |      Run query through SerpAPI and parse result.\n",
      " |  \n",
      " |  ----------------------------------------------------------------------\n",
      " |  Class methods defined here:\n",
      " |  \n",
      " |  validate_environment(values: Dict) -> Dict from pydantic.main.ModelMetaclass\n",
      " |      Validate that api key and python package exists in environment.\n",
      " |  \n",
      " |  ----------------------------------------------------------------------\n",
      " |  Static methods defined here:\n",
      " |  \n",
      " |  __json_encoder__ = pydantic_encoder(obj: Any) -> Any\n",
      " |  \n",
      " |  ----------------------------------------------------------------------\n",
      " |  Data and other attributes defined here:\n",
      " |  \n",
      " |  Config = <class 'langchain_community.utilities.serpapi.SerpAPIWrapper....\n",
      " |      Configuration for this pydantic object.\n",
      " |  \n",
      " |  \n",
      " |  __abstractmethods__ = frozenset()\n",
      " |  \n",
      " |  __annotations__ = {'aiosession': typing.Optional[aiohttp.client.Client...\n",
      " |  \n",
      " |  __class_vars__ = set()\n",
      " |  \n",
      " |  __config__ = <class 'langchain_community.utilities.serpapi.Config'>\n",
      " |  \n",
      " |  __custom_root_type__ = False\n",
      " |  \n",
      " |  __exclude_fields__ = None\n",
      " |  \n",
      " |  __fields__ = {'aiosession': ModelField(name='aiosession', type=Optiona...\n",
      " |  \n",
      " |  __hash__ = None\n",
      " |  \n",
      " |  __include_fields__ = None\n",
      " |  \n",
      " |  __post_root_validators__ = [(False, <function SerpAPIWrapper.validate_...\n",
      " |  \n",
      " |  __pre_root_validators__ = []\n",
      " |  \n",
      " |  __private_attributes__ = {}\n",
      " |  \n",
      " |  __schema_cache__ = {}\n",
      " |  \n",
      " |  __signature__ = <Signature (*, search_engine: Any = None, params...al[...\n",
      " |  \n",
      " |  __validators__ = {}\n",
      " |  \n",
      " |  ----------------------------------------------------------------------\n",
      " |  Methods inherited from pydantic.main.BaseModel:\n",
      " |  \n",
      " |  __eq__(self, other: Any) -> bool\n",
      " |  \n",
      " |  __getstate__(self) -> 'DictAny'\n",
      " |  \n",
      " |  __init__(__pydantic_self__, **data: Any) -> None\n",
      " |      Create a new model by parsing and validating input data from keyword arguments.\n",
      " |      \n",
      " |      Raises ValidationError if the input data cannot be parsed to form a valid model.\n",
      " |  \n",
      " |  __iter__(self) -> 'TupleGenerator'\n",
      " |      so `dict(model)` works\n",
      " |  \n",
      " |  __repr_args__(self) -> 'ReprArgs'\n",
      " |  \n",
      " |  __setattr__(self, name, value)\n",
      " |  \n",
      " |  __setstate__(self, state: 'DictAny') -> None\n",
      " |  \n",
      " |  copy(self: 'Model', *, include: Union[ForwardRef('AbstractSetIntStr'), ForwardRef('MappingIntStrAny'), NoneType] = None, exclude: Union[ForwardRef('AbstractSetIntStr'), ForwardRef('MappingIntStrAny'), NoneType] = None, update: Optional[ForwardRef('DictStrAny')] = None, deep: bool = False) -> 'Model'\n",
      " |      Duplicate a model, optionally choose which fields to include, exclude and change.\n",
      " |      \n",
      " |      :param include: fields to include in new model\n",
      " |      :param exclude: fields to exclude from new model, as with values this takes precedence over include\n",
      " |      :param update: values to change/add in the new model. Note: the data is not validated before creating\n",
      " |          the new model: you should trust this data\n",
      " |      :param deep: set to `True` to make a deep copy of the model\n",
      " |      :return: new model instance\n",
      " |  \n",
      " |  dict(self, *, include: Union[ForwardRef('AbstractSetIntStr'), ForwardRef('MappingIntStrAny'), NoneType] = None, exclude: Union[ForwardRef('AbstractSetIntStr'), ForwardRef('MappingIntStrAny'), NoneType] = None, by_alias: bool = False, skip_defaults: Optional[bool] = None, exclude_unset: bool = False, exclude_defaults: bool = False, exclude_none: bool = False) -> 'DictStrAny'\n",
      " |      Generate a dictionary representation of the model, optionally specifying which fields to include or exclude.\n",
      " |  \n",
      " |  json(self, *, include: Union[ForwardRef('AbstractSetIntStr'), ForwardRef('MappingIntStrAny'), NoneType] = None, exclude: Union[ForwardRef('AbstractSetIntStr'), ForwardRef('MappingIntStrAny'), NoneType] = None, by_alias: bool = False, skip_defaults: Optional[bool] = None, exclude_unset: bool = False, exclude_defaults: bool = False, exclude_none: bool = False, encoder: Optional[Callable[[Any], Any]] = None, models_as_dict: bool = True, **dumps_kwargs: Any) -> 'unicode'\n",
      " |      Generate a JSON representation of the model, `include` and `exclude` arguments as per `dict()`.\n",
      " |      \n",
      " |      `encoder` is an optional function to supply as `default` to json.dumps(), other arguments as per `json.dumps()`.\n",
      " |  \n",
      " |  ----------------------------------------------------------------------\n",
      " |  Class methods inherited from pydantic.main.BaseModel:\n",
      " |  \n",
      " |  __get_validators__() -> 'CallableGenerator' from pydantic.main.ModelMetaclass\n",
      " |  \n",
      " |  __try_update_forward_refs__(**localns: Any) -> None from pydantic.main.ModelMetaclass\n",
      " |      Same as update_forward_refs but will not raise exception\n",
      " |      when forward references are not defined.\n",
      " |  \n",
      " |  construct(_fields_set: Optional[ForwardRef('SetStr')] = None, **values: Any) -> 'Model' from pydantic.main.ModelMetaclass\n",
      " |      Creates a new model setting __dict__ and __fields_set__ from trusted or pre-validated data.\n",
      " |      Default values are respected, but no other validation is performed.\n",
      " |      Behaves as if `Config.extra = 'allow'` was set since it adds all passed values\n",
      " |  \n",
      " |  from_orm(obj: Any) -> 'Model' from pydantic.main.ModelMetaclass\n",
      " |  \n",
      " |  parse_file(path: Union[str, pathlib.Path], *, content_type: 'unicode' = None, encoding: 'unicode' = 'utf8', proto: pydantic.parse.Protocol = None, allow_pickle: bool = False) -> 'Model' from pydantic.main.ModelMetaclass\n",
      " |  \n",
      " |  parse_obj(obj: Any) -> 'Model' from pydantic.main.ModelMetaclass\n",
      " |  \n",
      " |  parse_raw(b: Union[str, bytes], *, content_type: 'unicode' = None, encoding: 'unicode' = 'utf8', proto: pydantic.parse.Protocol = None, allow_pickle: bool = False) -> 'Model' from pydantic.main.ModelMetaclass\n",
      " |  \n",
      " |  schema(by_alias: bool = True, ref_template: 'unicode' = '#/definitions/{model}') -> 'DictStrAny' from pydantic.main.ModelMetaclass\n",
      " |  \n",
      " |  schema_json(*, by_alias: bool = True, ref_template: 'unicode' = '#/definitions/{model}', **dumps_kwargs: Any) -> 'unicode' from pydantic.main.ModelMetaclass\n",
      " |  \n",
      " |  update_forward_refs(**localns: Any) -> None from pydantic.main.ModelMetaclass\n",
      " |      Try to update ForwardRefs on fields based on this Model, globalns and localns.\n",
      " |  \n",
      " |  validate(value: Any) -> 'Model' from pydantic.main.ModelMetaclass\n",
      " |  \n",
      " |  ----------------------------------------------------------------------\n",
      " |  Data descriptors inherited from pydantic.main.BaseModel:\n",
      " |  \n",
      " |  __dict__\n",
      " |      dictionary for instance variables (if defined)\n",
      " |  \n",
      " |  __fields_set__\n",
      " |  \n",
      " |  ----------------------------------------------------------------------\n",
      " |  Methods inherited from pydantic.utils.Representation:\n",
      " |  \n",
      " |  __pretty__(self, fmt: Callable[[Any], Any], **kwargs: Any) -> Generator[Any, NoneType, NoneType]\n",
      " |      Used by devtools (https://python-devtools.helpmanual.io/) to provide a human readable representations of objects\n",
      " |  \n",
      " |  __repr__(self) -> 'unicode'\n",
      " |  \n",
      " |  __repr_name__(self) -> 'unicode'\n",
      " |      Name of the instance's class, used in __repr__.\n",
      " |  \n",
      " |  __repr_str__(self, join_str: 'unicode') -> 'unicode'\n",
      " |  \n",
      " |  __rich_repr__(self) -> 'RichReprResult'\n",
      " |      Get fields for Rich library\n",
      " |  \n",
      " |  __str__(self) -> 'unicode'\n",
      "\n"
     ]
    }
   ],
   "source": [
    "help(search)"
   ]
  },
  {
   "cell_type": "code",
   "execution_count": 19,
   "metadata": {},
   "outputs": [
    {
     "name": "stdout",
     "output_type": "stream",
     "text": [
      "['Contact Email care@wuelev8.tech ; Phone Number +91 9560900306.', \"Here's how to get in touch with the Elevate team for more information or to schedule a demo for our best-in-class benefit account platform.\", 'It also allows users to post jobs. Company Details. Website: whereuelevate.com; Social: Twitter Facebook; Email ID: *** ...', 'Where U Elevate, Bareilly. 271 likes · 4 talking about this. Where U Elevate is a talent management platform with 5M+ Impressions, 200k+ Users, 3000+...', '1st Floor, 27 – 33. Bethnal Green Rd, London, E16LA ... hellouk@weareelevate.global · +44 (0)207 183 0303 ... Network ... Australia ... Netherlands ... China ... Poland ...', 'What Information do we collect? Personal Details: Full name, Email address, Phone number, Address, Date of birth, Gender, Marital Status; Professional Details: ...', 'Email: US_sales@elevatesaas.com Phone: +1 (949) 528-8333 Fax: +1 (800) 679-4617 Address: 3990 Westerly Suite 270 Newport Beach', 'New business inquiries, please call: 1 (973) 917-3230 or email: info@elevate-hr.com or sales@elevate-hr.com', 'Where U Elevate is an AI-driven platform nurturing Open Innovation in India, linking Industry and Academia through Hackathons, Next-Gen Hiring, Contractual ...', 'Discover jobs in India with Where U Elevate. Get personalized mentoring and find the best job opportunities for you.']\n"
     ]
    }
   ],
   "source": [
    "print(response)"
   ]
  },
  {
   "cell_type": "code",
   "execution_count": 29,
   "metadata": {},
   "outputs": [
    {
     "name": "stdout",
     "output_type": "stream",
     "text": [
      "[\n"
     ]
    }
   ],
   "source": []
  },
  {
   "cell_type": "code",
   "execution_count": 23,
   "metadata": {},
   "outputs": [],
   "source": [
    "# Specifying parameters relative to the Indian region\n",
    "params = {\n",
    "    \"engine\": \"google\",\n",
    "    \"gl\": \"in\",\n",
    "    \"google_domain\":\"google.co.in\",\n",
    "    \"hl\": \"en\",\n",
    "}"
   ]
  },
  {
   "cell_type": "code",
   "execution_count": 45,
   "metadata": {},
   "outputs": [
    {
     "name": "stdout",
     "output_type": "stream",
     "text": [
      "(*, search_engine: Any = None, params: dict = {'engine': 'google', 'google_domain': 'google.com', 'gl': 'us', 'hl': 'en'}, serpapi_api_key: Optional[str] = None, aiosession: Optional[aiohttp.client.ClientSession] = None) -> None\n"
     ]
    }
   ],
   "source": [
    "import inspect\n",
    "print(inspect.signature(SerpAPIWrapper))"
   ]
  },
  {
   "cell_type": "code",
   "execution_count": 46,
   "metadata": {},
   "outputs": [
    {
     "name": "stdout",
     "output_type": "stream",
     "text": [
      "Wrapper around SerpAPI.\n",
      "\n",
      "    To use, you should have the ``google-search-results`` python package installed,\n",
      "    and the environment variable ``SERPAPI_API_KEY`` set with your API key, or pass\n",
      "    `serpapi_api_key` as a named parameter to the constructor.\n",
      "\n",
      "    Example:\n",
      "        .. code-block:: python\n",
      "\n",
      "            from langchain_community.utilities import SerpAPIWrapper\n",
      "            serpapi = SerpAPIWrapper()\n",
      "    \n"
     ]
    }
   ],
   "source": [
    "print(SerpAPIWrapper.__doc__)"
   ]
  },
  {
   "cell_type": "code",
   "execution_count": 30,
   "metadata": {},
   "outputs": [],
   "source": [
    "search=SerpAPIWrapper(params=params)\n",
    "response=search.run(\"What is the email address of company Where U Elevate?\")"
   ]
  },
  {
   "cell_type": "code",
   "execution_count": 32,
   "metadata": {},
   "outputs": [
    {
     "name": "stdout",
     "output_type": "stream",
     "text": [
      "['Where U Elevate c/o WUELEV8 Innovation Services Pvt. Ltd. F-13, Sweet Home Colony, Shastri Nagar, Bareilly - 243122 (UP), India. For Inquiries. Sales and ...', 'It also allows users to post jobs. Company Details. Website: whereuelevate.com; Social: Twitter Facebook; Email ID: *** ...', 'Where U Elevate is an AI-driven platform nurturing Open Innovation in India, linking Industry and Academia through Hackathons, Next-Gen Hiring, Contractual ...', 'Contact Email care@wuelev8.tech ; Phone Number +91 9560900306.', 'Where U Elevate, Bareilly. 271 likes · 3 talking about this. Where U Elevate is a talent management platform with 5M+ Impressions, 200k+ Users, 3000+...', 'Find the best suited opportunity to showcase your innovative skills with available jobs, hackathons, industry led Open Innovation programs and career mentoring.', '1st Floor, 27 – 33. Bethnal Green Rd, London, E16LA ... hellouk@weareelevate.global · +44 (0)207 183 0303 ... Network ... Australia ... Netherlands ... China ... Poland ...', 'Sunil is the co-founder and CTO of Where U Elevate, a company with a vision of Open innovation that drives innovation faster by solving the talent shortage ...', \"Here's how to get in touch with the Elevate team for more information or to schedule a demo for our best-in-class benefit account platform.\", 'New business inquiries, please call: 1 (973) 917-3230 or email: info@elevate-hr.com or sales@elevate-hr.com']\n"
     ]
    }
   ],
   "source": [
    "print(response)"
   ]
  },
  {
   "cell_type": "code",
   "execution_count": 36,
   "metadata": {},
   "outputs": [
    {
     "name": "stdout",
     "output_type": "stream",
     "text": [
      "Result 1: ['Where U Elevate c/o WUELEV8 Innovation Services Pvt. Ltd. F-13, Sweet Home Colony, Shastri Nagar, Bareilly - 243122 (UP), India. For Inquiries. Sales and ...\n",
      "\n",
      "Result 2: 'It also allows users to post jobs. Company Details. Website: whereuelevate.com; Social: Twitter Facebook; Email ID: *** ...\n",
      "\n",
      "Result 3: 'Where U Elevate is an AI-driven platform nurturing Open Innovation in India, linking Industry and Academia through Hackathons, Next-Gen Hiring, Contractual ...\n",
      "\n",
      "Result 4: 'Contact Email care@wuelev8.tech ; Phone Number +91 9560900306.\n",
      "\n",
      "Result 5: 'Where U Elevate, Bareilly. 271 likes · 3 talking about this. Where U Elevate is a talent management platform with 5M+ Impressions, 200k+ Users, 3000+...\n",
      "\n",
      "Result 6: 'Find the best suited opportunity to showcase your innovative skills with available jobs, hackathons, industry led Open Innovation programs and career mentoring.\n",
      "\n",
      "Result 7: '1st Floor, 27 – 33. Bethnal Green Rd, London, E16LA ... hellouk@weareelevate.global · +44 (0)207 183 0303 ... Network ... Australia ... Netherlands ... China ... Poland ...\n",
      "\n",
      "Result 8: 'Sunil is the co-founder and CTO of Where U Elevate, a company with a vision of Open innovation that drives innovation faster by solving the talent shortage ...\n",
      "\n",
      "Result 9: \"Here's how to get in touch with the Elevate team for more information or to schedule a demo for our best-in-class benefit account platform.\", 'New business inquiries, please call: 1 (973) 917-3230 or email: info@elevate-hr.com or sales@elevate-hr.com']\n",
      "\n"
     ]
    }
   ],
   "source": [
    "# According to the displayed response I think this is the splitting pattern, so splitting like this\n",
    "results = response.split(\"', \")\n",
    "for i, result in enumerate(results, start=1):\n",
    "    print(f\"Result {i}: {result}\\n\")"
   ]
  },
  {
   "cell_type": "code",
   "execution_count": 43,
   "metadata": {},
   "outputs": [
    {
     "name": "stdout",
     "output_type": "stream",
     "text": [
      "\n",
      "\n",
      "\u001b[1m> Entering new AgentExecutor chain...\u001b[0m\n",
      "\u001b[32;1m\u001b[1;3mThought: I need to find the email address of Where U Elevate.  A web search should help.\n",
      "\n",
      "Action: Search\n",
      "Action Input: \"Where U Elevate contact email\"\n",
      "\u001b[0m\n",
      "Observation: \u001b[36;1m\u001b[1;3mFor general or account inquiries, please email support@elevateapp.com.\u001b[0m\n",
      "Thought:\u001b[32;1m\u001b[1;3mThought: I now know the final answer.\n",
      "Final Answer: support@elevateapp.com\n",
      "\u001b[0m\n",
      "\n",
      "\u001b[1m> Finished chain.\u001b[0m\n"
     ]
    },
    {
     "data": {
      "text/plain": [
       "'support@elevateapp.com'"
      ]
     },
     "execution_count": 43,
     "metadata": {},
     "output_type": "execute_result"
    }
   ],
   "source": [
    "# testing with google gemini \n",
    "# zero shot react description\n",
    "# with no serpapi params lets see\n",
    "\n",
    "llm=ChatGoogleGenerativeAI(temperature=0.2,model=\"gemini-1.5-flash-latest\")\n",
    "tools=load_tools([\"serpapi\"],llm=llm)\n",
    "agent=initialize_agent(tools,llm,agent=\"zero-shot-react-description\",verbose=True)\n",
    "agent.run(\"What is the email address of company Where U Elevate ?\")"
   ]
  },
  {
   "cell_type": "code",
   "execution_count": 50,
   "metadata": {},
   "outputs": [
    {
     "name": "stdout",
     "output_type": "stream",
     "text": [
      "Help on function load_tools in module langchain_community.agent_toolkits.load_tools:\n",
      "\n",
      "load_tools(tool_names: List[str], llm: Optional[langchain_core.language_models.base.BaseLanguageModel] = None, callbacks: Union[List[langchain_core.callbacks.base.BaseCallbackHandler], langchain_core.callbacks.base.BaseCallbackManager, NoneType] = None, allow_dangerous_tools: bool = False, **kwargs: Any) -> List[langchain_core.tools.BaseTool]\n",
      "    Load tools based on their name.\n",
      "    \n",
      "    Tools allow agents to interact with various resources and services like\n",
      "    APIs, databases, file systems, etc.\n",
      "    \n",
      "    Please scope the permissions of each tools to the minimum required for the\n",
      "    application.\n",
      "    \n",
      "    For example, if an application only needs to read from a database,\n",
      "    the database tool should not be given write permissions. Moreover\n",
      "    consider scoping the permissions to only allow accessing specific\n",
      "    tables and impose user-level quota for limiting resource usage.\n",
      "    \n",
      "    Please read the APIs of the individual tools to determine which configuration\n",
      "    they support.\n",
      "    \n",
      "    See [Security](https://python.langchain.com/docs/security) for more information.\n",
      "    \n",
      "    Args:\n",
      "        tool_names: name of tools to load.\n",
      "        llm: An optional language model, may be needed to initialize certain tools.\n",
      "        callbacks: Optional callback manager or list of callback handlers.\n",
      "            If not provided, default global callback manager will be used.\n",
      "        allow_dangerous_tools: Optional flag to allow dangerous tools.\n",
      "            Tools that contain some level of risk.\n",
      "            Please use with caution and read the documentation of these tools\n",
      "            to understand the risks and how to mitigate them.\n",
      "            Refer to https://python.langchain.com/docs/security\n",
      "            for more information.\n",
      "            Please note that this list may not be fully exhaustive.\n",
      "            It is your responsibility to understand which tools\n",
      "            you're using and the risks associated with them.\n",
      "    \n",
      "    Returns:\n",
      "        List of tools.\n",
      "\n",
      "None\n"
     ]
    }
   ],
   "source": [
    "print(help(load_tools))"
   ]
  },
  {
   "cell_type": "code",
   "execution_count": 56,
   "metadata": {},
   "outputs": [],
   "source": [
    "from langchain.agents import Tool"
   ]
  },
  {
   "cell_type": "markdown",
   "metadata": {},
   "source": []
  },
  {
   "cell_type": "code",
   "execution_count": 55,
   "metadata": {},
   "outputs": [
    {
     "name": "stdout",
     "output_type": "stream",
     "text": [
      "\n",
      "\n",
      "\u001b[1m> Entering new AgentExecutor chain...\u001b[0m\n",
      "\u001b[32;1m\u001b[1;3mThought: I need to find the email address of Where U Elevate.  I can try searching for it online using SerpApi.\n",
      "\n",
      "Action: serpapi\n",
      "Action Input: query=\"Where U Elevate email address\"\n",
      "\u001b[0m\n",
      "Observation: \u001b[36;1m\u001b[1;3m['Where U Elevate c/o WUELEV8 Innovation Services Pvt. Ltd. F-13, Sweet Home Colony, Shastri Nagar, Bareilly - 243122 (UP), India. For Inquiries. Sales ...', 'Find the best suited opportunity to showcase your innovative skills with available jobs, hackathons, industry led Open Innovation programs and career mentoring.', 'Where U Elevate is an AI-driven platform nurturing Open Innovation in India, linking Industry and Academia through Hackathons, Next-Gen Hiring, Contractual ...', 'Where U Elevate is working on creating the next generation innovative workforce which is agile, adaptable, and innovative by leveraging cutting edge ...', \"Let's connect and explore how we can help you build a future-ready team fast and efficiently. Book a demo or reach out to us today! https://whereuelevate.com/ ...\", 'Where U Elevate, your ultimate destination for cutting-edge Hackathons, Hiring, Open Innovation Programs, & personalized Saarthi mentorship.', \"Rishab is a dynamic entrepreneur and technology professional with a strong passion for both business and community service. He's the Co-Founder and CEO of ...\", 'Where U Elevate is a talent management platform with 5M+ Impressions, 200k+ Users, 3000+ Institutions & 100+ Companies.']\u001b[0m\n",
      "Thought:\u001b[32;1m\u001b[1;3mThought: The SerpApi results don't contain a direct email address for Where U Elevate.  I need to try a different approach.  I'll try searching their website.\n",
      "\n",
      "Action: serpapi\n",
      "Action Input: query=\"Where U Elevate contact\"\n",
      "\u001b[0m\n",
      "Observation: \u001b[36;1m\u001b[1;3m['Where U Elevate c/o WUELEV8 Innovation Services Pvt. Ltd. F-13, Sweet Home Colony, Shastri Nagar, Bareilly - 243122 (UP), India. For Inquiries. Sales ...', 'Find the best suited opportunity to showcase your innovative skills with available jobs, hackathons, industry led Open Innovation programs and career mentoring.', \"A platform to the grassroot tech talent to upskill by solving industry problems under mentoring from industry experts and become 'Future-Ready'.\", 'Where U Elevate is an AI-driven platform nurturing Open Innovation in India, linking Industry and Academia through Hackathons, Next-Gen Hiring, Contractual ...', 'Where U Elevate, your ultimate destination for cutting-edge Hackathons, Hiring, Open Innovation Programs, & personalized Saarthi mentorship.', \"Let's connect and explore how we can help you build a future-ready team fast and efficiently. Book a demo or reach out to us today! https://whereuelevate.com/ ...\", 'Where U Elevate is working on creating the next generation innovative workforce which is agile, adaptable, and innovative by leveraging cutting edge ...', \"Rishab is a dynamic entrepreneur and technology professional with a strong passion for both business and community service. He's the Co-Founder and CEO of ...\", 'Where U Elevate is a talent management platform with 5M+ Impressions, 200k+ Users, 3000+ Institutions & 100+ Companies.']\u001b[0m\n",
      "Thought:\u001b[32;1m\u001b[1;3mThought:The SerpApi results still don't provide a direct email address.  The website is mentioned, so I should try looking there directly.  I cannot directly access and browse websites, so I cannot complete this request.\n",
      "\n",
      "Final Answer: I was unable to find the email address for Where U Elevate using the available tools.\n",
      "\u001b[0m\n",
      "\n",
      "\u001b[1m> Finished chain.\u001b[0m\n",
      "I was unable to find the email address for Where U Elevate using the available tools.\n"
     ]
    }
   ],
   "source": [
    "\n",
    "llm = ChatGoogleGenerativeAI(temperature=0.2, model=\"gemini-1.5-flash-latest\")\n",
    "params = {\n",
    "    \"engine\": \"google\",\n",
    "    \"gl\": \"in\",\n",
    "    \"google_domain\": \"google.co.in\",\n",
    "    \"hl\": \"en\",\n",
    "}\n",
    "\n",
    "search = SerpAPIWrapper(params=params)\n",
    "\n",
    "# Load tools, passing the search tool into the agent\n",
    "tools = [Tool(name=\"serpapi\", func=search.run, description=\"Search for information online\")]\n",
    "\n",
    "agent = initialize_agent(tools, llm, agent_type=\"zero-shot-react-description\", verbose=True)\n",
    "\n",
    "response = agent.run(\"What is the email address of company Where U Elevate?\")\n",
    "print(response)\n"
   ]
  },
  {
   "cell_type": "markdown",
   "metadata": {},
   "source": [
    "- > Directly using Google Gemini with this is talking a lots of time\n",
    "- > Maybe I should just try using Groq (maybe it doesnt) or I should pass the output of tools directly using a prompt template I guess, let's see what works the best"
   ]
  },
  {
   "cell_type": "code",
   "execution_count": null,
   "metadata": {},
   "outputs": [],
   "source": []
  },
  {
   "cell_type": "markdown",
   "metadata": {},
   "source": [
    "- > Another Problem, Response provided by Google is not always correct here, (Also gemini taking a lots of time here , lets redefine our approach) as initially first api call-> email yielded, second call-> not yieleded\n"
   ]
  },
  {
   "cell_type": "markdown",
   "metadata": {},
   "source": [
    "#### Modifying approach to use TavilySearchResults"
   ]
  },
  {
   "cell_type": "code",
   "execution_count": 59,
   "metadata": {},
   "outputs": [
    {
     "data": {
      "text/plain": [
       "[{'url': 'https://www.crunchbase.com/organization/where-u-elevate',\n",
       "  'content': 'Legal Name WUELEV8 Innovation Services Private Limited. Company Type For Profit. Contact Email care@wuelev8.tech. Phone Number +91 9560900306. Where U Elevate is an AI-driven platform nurturing \"Open Innovation\" in India, linking Industry and Academia through Hackathons, Next-Gen Hiring, Contractual Research, and Technology Transfers.'},\n",
       " {'url': 'https://contactout.com/company/Where-U-Elevate-75986',\n",
       "  'content': \"Get details for Where U Elevate's 10 employees, email format for wuelev8.tech and phone numbers. Where U Elevate is a platform that empowers engineers to engage in ongoing innovation journeys, taking their careers to new heights. Our platform offers undergrads and working professionals recognized for their contributions, providing access to top job recommendations, hiring challenges, and\"}]"
      ]
     },
     "execution_count": 59,
     "metadata": {},
     "output_type": "execute_result"
    }
   ],
   "source": [
    "from langchain_community.tools.tavily_search import TavilySearchResults\n",
    "search = TavilySearchResults(max_results=2)\n",
    "search.invoke(\"what is the email address of company Where U Elevate ?\")"
   ]
  },
  {
   "cell_type": "code",
   "execution_count": 60,
   "metadata": {},
   "outputs": [
    {
     "data": {
      "text/plain": [
       "[{'url': 'https://www.pcmag.com/how-to/how-to-recover-a-facebook-account',\n",
       "  'content': \"If you're locked out of your account because you've been hacked or you've just noticed activity on your account that's suspicious (changes to your personal info that you didn't make\"},\n",
       " {'url': 'https://en-gb.facebook.com/help/mobile-basic/231208473756221/',\n",
       "  'content': \"Recover an old Facebook account that you can't log in to. Go to the profile of the account that you'd like to recover. Tap More below the cover photo, then select Find support or report. Tap Something else, then tap Submit. Tap Recover this account, then tap Submit and follow the steps. You can learn more about hacked accounts.\"}]"
      ]
     },
     "execution_count": 60,
     "metadata": {},
     "output_type": "execute_result"
    }
   ],
   "source": [
    "# I guess this is looking fine, as far as things are concerned\n",
    "from langchain_community.tools.tavily_search import TavilySearchResults\n",
    "search = TavilySearchResults(max_results=2)\n",
    "search.invoke(\"I lost my facebook account. How I can mail them? Have they provided an gmail address ?\")"
   ]
  },
  {
   "cell_type": "code",
   "execution_count": 61,
   "metadata": {},
   "outputs": [],
   "source": [
    "search=SerpAPIWrapper(params=params)\n",
    "response=search.run(\"I lost my facebook account. How I can mail them? Have they provided an gmail address ?\")"
   ]
  },
  {
   "cell_type": "code",
   "execution_count": 63,
   "metadata": {},
   "outputs": [
    {
     "name": "stdout",
     "output_type": "stream",
     "text": [
      "['Try these steps to recover your account: Try using a different mobile phone number or email address, which you might have forgotten are associated with your ...', \"If you can't receive emails or text messages from us, maybe because you lost or upgraded your phone or your email account was hacked, learn how to recover ...\", 'You will need to undertake the Gmail Account Recovery (\"AR\") procedure. If you have already done this, we need you to try once again.', 'To recover your Facebook account using your Gmail, go to the Facebook login page, click on \"Forgotten account?\" and follow the prompts. You\\'ll ...', 'Account Recovery (\"AR\") is the ONLY way to recover the account. If you are unwilling to undertake AR, Google will refuse all further assistance.', \"Lost access to your Facebook account because you can't access your email or phone number? Don't worry! In this video, I'll show you how to ...\", \"To recover an old account: 1. Tap and enter the profile name. 2. Tap the name of the profile you're trying to report. 3. Tap and select Report profile.\", 'First, you need to access the following link: https://accounts.google.com/signin/recovery and type in your email address.', 'Go to this link - https://accounts.google.com/signin/recovery From there, you can follow the steps to recover your Google password.', \"Open another account first then log out. When you log out, you will see. That's it. You need to log out so you can see this FinR account because ...\"]\n"
     ]
    }
   ],
   "source": [
    "print(response)"
   ]
  },
  {
   "cell_type": "code",
   "execution_count": 67,
   "metadata": {},
   "outputs": [
    {
     "name": "stdout",
     "output_type": "stream",
     "text": [
      "<class 'str'>\n"
     ]
    }
   ],
   "source": [
    "print(type(response))"
   ]
  },
  {
   "cell_type": "code",
   "execution_count": 69,
   "metadata": {},
   "outputs": [
    {
     "name": "stdout",
     "output_type": "stream",
     "text": [
      "Result 1: ['Try these steps to recover your account: Try using a different mobile phone number or email address, which you might have forgotten are associated with your ...\n",
      "\n",
      "Result 2: \"If you can't receive emails or text messages from us, maybe because you lost or upgraded your phone or your email account was hacked, learn how to recover ...\", 'You will need to undertake the Gmail Account Recovery (\"AR\") procedure. If you have already done this, we need you to try once again.\n",
      "\n",
      "Result 3: 'To recover your Facebook account using your Gmail, go to the Facebook login page, click on \"Forgotten account?\" and follow the prompts. You\\'ll ...\n",
      "\n",
      "Result 4: 'Account Recovery (\"AR\") is the ONLY way to recover the account. If you are unwilling to undertake AR, Google will refuse all further assistance.\n",
      "\n",
      "Result 5: \"Lost access to your Facebook account because you can't access your email or phone number? Don't worry! In this video, I'll show you how to ...\", \"To recover an old account: 1. Tap and enter the profile name. 2. Tap the name of the profile you're trying to report. 3. Tap and select Report profile.\", 'First, you need to access the following link: https://accounts.google.com/signin/recovery and type in your email address.\n",
      "\n",
      "Result 6: 'Go to this link - https://accounts.google.com/signin/recovery From there, you can follow the steps to recover your Google password.\n",
      "\n",
      "Result 7: \"Open another account first then log out. When you log out, you will see. That's it. You need to log out so you can see this FinR account because ...\"]\n",
      "\n"
     ]
    }
   ],
   "source": [
    "results = response.split(\"', \")\n",
    "for i, result in enumerate(results, start=1):\n",
    "    print(f\"Result {i}: {result}\\n\")"
   ]
  },
  {
   "cell_type": "markdown",
   "metadata": {},
   "source": [
    "- > In this no one was actually able to provide gmail address\n"
   ]
  },
  {
   "cell_type": "code",
   "execution_count": 74,
   "metadata": {},
   "outputs": [
    {
     "data": {
      "text/plain": [
       "[{'url': 'https://www.grievanceofficer.com/grievance-officer-zomato/',\n",
       "  'content': 'Email address: legal@zomato.com'},\n",
       " {'url': 'https://www.easyleadz.com/company/zomato',\n",
       "  'content': 'Zomato is a private company and Zomato is classified as a Non Government company. Zomato is a Consumer Services based company and has headquarters in Gurugram, Haryana, India. Zomato has 7174 employees working in various departments like Sales, Marketing, HR, Finance & Operations. It was founded in 2008. Zomato specialises in Restaurant Search & Discovery, Table Reservations, Restaurant Pos'}]"
      ]
     },
     "execution_count": 74,
     "metadata": {},
     "output_type": "execute_result"
    }
   ],
   "source": [
    "search = TavilySearchResults(max_results=2)\n",
    "search.invoke(\"What is the email address of Zomato ?\")"
   ]
  },
  {
   "cell_type": "code",
   "execution_count": 84,
   "metadata": {},
   "outputs": [
    {
     "data": {
      "text/plain": [
       "[{'url': 'https://www.zomato.com/policies/terms-of-service/',\n",
       "  'content': 'Email address: nodal@zomato.com. For Customers residing in India, please note, in compliance with The Information Technology Act, 2000 and the rules made thereunder, as well as The Consumer Protection Act 2019, and the rules made thereunder, the grievance redressal mechanism, including the contact details of the Grievance Officer and Nodal'},\n",
       " {'url': 'https://www.zomato.com/investor-relations/resources',\n",
       "  'content': \"By using this site you agree to Zomato's use of cookies to give you a personalised experience. Please read the cookie policy for more information or to delete/block them. Accept ... Investor Grievance Email. delhi@linkintime.co.in. Website. www.linkintime.co.in. Contact Person. Mr. Vishal Dixit. Zomato Limited. CIN: L93030DL2010PLC198141\"}]"
      ]
     },
     "execution_count": 84,
     "metadata": {},
     "output_type": "execute_result"
    }
   ],
   "source": [
    "search = TavilySearchResults(max_results=2)\n",
    "search.invoke(\"Mail address of Zomato site:zomato.com\")"
   ]
  },
  {
   "cell_type": "code",
   "execution_count": 76,
   "metadata": {},
   "outputs": [
    {
     "data": {
      "text/plain": [
       "[{'url': 'https://www.zomato.com/contact',\n",
       "  'content': \"Click on the 'Support' or 'Online ordering help' section in your app to connect to our customer support team. By using this site you agree to Zomato's use of cookies to give you a personalised experience. Please read the cookie policy for more information or to delete/block them. Accept\"},\n",
       " {'url': 'https://www.zomato.com/mumbai/contact',\n",
       "  'content': \"Click on the 'Support' or 'Online ordering help' section in your app to connect to our customer support team. Select Country. India. UAE. India. Select Language. English. About Zomato. Who We Are. Blog. Work With Us. Investor Relations. Report Fraud. Press Kit. Contact Us. Zomaverse. Zomato. Blinkit. District.\"}]"
      ]
     },
     "execution_count": 76,
     "metadata": {},
     "output_type": "execute_result"
    }
   ],
   "source": [
    "search.invoke(\"\"\"site:zomato.com \"support\" \"@gmail.com\"\"\")"
   ]
  },
  {
   "cell_type": "code",
   "execution_count": 77,
   "metadata": {},
   "outputs": [
    {
     "data": {
      "text/plain": [
       "[{'url': 'https://www.reddit.com/r/delhi/comments/16tsy1e/how_do_i_actually_get_in_touch_with_a_zomato/',\n",
       "  'content': 'o get a in refund Zomato, you can follow these steps: Contact Zomato Customer Support:08409-850-997 visit the Zomato website. Log in to your account using your registered email ID and password. Go to the \"My Orders\" section. Select the order for which you want a refund. Click on the \"Support\" or \"Help\" option associated with the order.'},\n",
       " {'url': 'https://www.consumercomplaints.in/zomato-b115724/customer-care',\n",
       "  'content': 'Zomato Customer Care Contacts  Zomato Phone Numbers Zomato Website Zomato Head Office Address Zomato Social Media Zomato Company Representatives Additional Zomato contact information United States United Kindgom Mr. Deepinder Goyal Chief Executive Officer, Co-Founder and Director Mr. Pankaj Chaddah Chief Operating Officer Mr. Gunjan Patidar Zomato Overview Zomato ranks as the #1 most complained about among Food. officially connected with Zomato. We suggest contacting the company directly to resolve your complaints, Leave your complaints, comments, reviews and experiences regarding on our website and work with their customer service team to find a resolution. Featured Zomato stories Recently resolved Zomato complaints Most useful Zomato reviews Recent Zomato reviews & complaints(7822) Zomato related businesses'}]"
      ]
     },
     "execution_count": 77,
     "metadata": {},
     "output_type": "execute_result"
    }
   ],
   "source": [
    "search.invoke(\"Mail address of Zomato Customer Support Team\")"
   ]
  },
  {
   "cell_type": "code",
   "execution_count": 71,
   "metadata": {},
   "outputs": [],
   "source": [
    "search=SerpAPIWrapper(params=params)\n",
    "response=search.run(\"What is the mail address of Facebook Support?\")"
   ]
  },
  {
   "cell_type": "code",
   "execution_count": 78,
   "metadata": {},
   "outputs": [],
   "source": [
    "search=SerpAPIWrapper(params=params)\n",
    "response=search.run(\"\"\"site:zomato.com \"support\" \"@gmail.com\"\"\")"
   ]
  },
  {
   "cell_type": "code",
   "execution_count": 79,
   "metadata": {},
   "outputs": [
    {
     "name": "stdout",
     "output_type": "stream",
     "text": [
      "[\"Issue with your live order? Click on the 'Support' or 'Online ordering help' section in your app to connect to our customer support team.\", 'All Zomato employees in client facing roles including but not limited to Sales, Sales Support ... Please email legal@zomato.com if you witness any behavior ...', 'For any help or queries pertaining to Event(s), you may reach out to us through chat support or write to us at eventsupport@zomato.com. Previous. « Go out ...', 'Use this page to report a serious incident or accident only. For order related queries, please use our chat support.', '... Email to Collab - foodiesatc@gmail.com Zomato Connoisseur ⚓ ... With @patcummins30 giving him at support at the other end, Australia managed ...', '... gmail.com . Why Book with KBG Trips? . - Expert travel guidance - Personalized support - Seamless booking experience . Secure Your Spot Today!', \"What's the one thing that really worked well for you? Ease of finding a restaurant/dish. Food quantity. Customer Support availability. Customer Support ...\", \"❤️ Let's come together to support the small businesses around us that are built with love and courage. #SupportLocal #MummasBrownie Location - @mummas ...\", \"... Support resolution. Payment options. Food quantity. Delivery time. Customer Support availability. Food taste/quality. Delivery partner's behaviour. Discounts ...\", 'Chat support. Get quick assistance on any of your orders only on the app. Online ordering is only available on the Zomato app. Continue in app. 34 min. Live ...']\n"
     ]
    }
   ],
   "source": [
    "print(response)"
   ]
  },
  {
   "cell_type": "code",
   "execution_count": 80,
   "metadata": {},
   "outputs": [],
   "source": [
    "search=SerpAPIWrapper(params=params)\n",
    "response=search.run(\"\"\"site:whereuelevate.com \"support\" \"@gmail.com\"\"\")"
   ]
  },
  {
   "cell_type": "code",
   "execution_count": 86,
   "metadata": {},
   "outputs": [
    {
     "data": {
      "text/plain": [
       "'[\"Issue with your live order? Click on the \\'Support\\' or \\'Online ordering help\\' section in your app to connect to our customer support team.\", \"Reach out to us by emailing at companysecretary@zomato.com, and we\\'ll get back to you. Contact Us. Disclosures under Regulation 46 of the LODR.\", \\'If you observe any such practice, report it to help@zomato.com. Appropriate action will be taken against the user or employee if evidence can be provided.\\', \\'Tell us what you think about Zomato. Name Email Phone number (optional ) Message Guidelines Please be brutal and tell us more of what we suck at, than what we ...\\', \\'Please use this form only for reporting potential frauds. For order or other general queries contact us here. Zomato logo.\\', \\'If you have questions, or need assistance, please contact us at merchant@zomato.com. Will I be able to install the App on Windows and BlackBerry devices? Sorry, ...\\', \\'... to deliver your order from the restaurant to your delivery location ... mail address, address proof, PAN Card, driving license etc. to the ...\\', \\'Restaurant Partner Login | Partner with Zomato | Join Our Network of Restaurants - Zomato for Business | Contact Us +91 97-38-38-38-38.\\', \"The Investor Relations page contains information about Zomato\\'s business for stockholders, potential investors, and financial analysts.\", \\'Use this page to report a serious incident or accident only. For order related queries, please use our chat support.\\']'"
      ]
     },
     "execution_count": 86,
     "metadata": {},
     "output_type": "execute_result"
    }
   ],
   "source": [
    "search=SerpAPIWrapper(params=params)\n",
    "response=search.run(\"\"\"Mail address of Zomato site:zomato.com\"\"\")\n",
    "response"
   ]
  },
  {
   "cell_type": "code",
   "execution_count": 87,
   "metadata": {},
   "outputs": [
    {
     "name": "stdout",
     "output_type": "stream",
     "text": [
      "[\"Issue with your live order? Click on the 'Support' or 'Online ordering help' section in your app to connect to our customer support team.\", \"Reach out to us by emailing at companysecretary@zomato.com, and we'll get back to you. Contact Us. Disclosures under Regulation 46 of the LODR.\", 'If you observe any such practice, report it to help@zomato.com. Appropriate action will be taken against the user or employee if evidence can be provided.', 'Tell us what you think about Zomato. Name Email Phone number (optional ) Message Guidelines Please be brutal and tell us more of what we suck at, than what we ...', 'Please use this form only for reporting potential frauds. For order or other general queries contact us here. Zomato logo.', 'If you have questions, or need assistance, please contact us at merchant@zomato.com. Will I be able to install the App on Windows and BlackBerry devices? Sorry, ...', '... to deliver your order from the restaurant to your delivery location ... mail address, address proof, PAN Card, driving license etc. to the ...', 'Restaurant Partner Login | Partner with Zomato | Join Our Network of Restaurants - Zomato for Business | Contact Us +91 97-38-38-38-38.', \"The Investor Relations page contains information about Zomato's business for stockholders, potential investors, and financial analysts.\", 'Use this page to report a serious incident or accident only. For order related queries, please use our chat support.']\n"
     ]
    }
   ],
   "source": [
    "print(response)"
   ]
  },
  {
   "cell_type": "code",
   "execution_count": 88,
   "metadata": {},
   "outputs": [],
   "source": [
    "from langchain.utilities.tavily_search import TavilySearchAPIWrapper\n",
    "from langchain.agents import initialize_agent, AgentType\n",
    "from langchain_community.chat_models import ChatOpenAI\n",
    "from langchain.tools.tavily_search import TavilySearchResults"
   ]
  },
  {
   "cell_type": "code",
   "execution_count": 90,
   "metadata": {},
   "outputs": [
    {
     "name": "stdout",
     "output_type": "stream",
     "text": [
      "\n",
      "\n",
      "\u001b[1m> Entering new AgentExecutor chain...\u001b[0m\n",
      "\u001b[32;1m\u001b[1;3mThought:I need to use a search engine to find information about a recent car accident involving an Innova in Dehradun.\n",
      "\n",
      "Action:\n",
      "```json\n",
      "{\n",
      "  \"action\": \"tavily_search_results_json\",\n",
      "  \"action_input\": {\n",
      "    \"query\": {\n",
      "      \"title\": \"Dehradun Innova Car Accident\",\n",
      "      \"description\": \"Recent car accident in Dehradun involving an Innova.  Looking for details on the accident.\",\n",
      "      \"type\": \"string\"\n",
      "    }\n",
      "  }\n",
      "}\n",
      "```\n",
      "\u001b[0m"
     ]
    },
    {
     "ename": "ValidationError",
     "evalue": "1 validation error for TavilyInput\nquery\n  str type expected (type=type_error.str)",
     "output_type": "error",
     "traceback": [
      "\u001b[1;31m---------------------------------------------------------------------------\u001b[0m",
      "\u001b[1;31mValidationError\u001b[0m                           Traceback (most recent call last)",
      "Cell \u001b[1;32mIn[90], line 14\u001b[0m\n\u001b[0;32m      6\u001b[0m agent_chain \u001b[38;5;241m=\u001b[39m initialize_agent(\n\u001b[0;32m      7\u001b[0m     [tavily_tool],\n\u001b[0;32m      8\u001b[0m     llm,\n\u001b[0;32m      9\u001b[0m     agent\u001b[38;5;241m=\u001b[39mAgentType\u001b[38;5;241m.\u001b[39mSTRUCTURED_CHAT_ZERO_SHOT_REACT_DESCRIPTION,\n\u001b[0;32m     10\u001b[0m     verbose\u001b[38;5;241m=\u001b[39m\u001b[38;5;28;01mTrue\u001b[39;00m,\n\u001b[0;32m     11\u001b[0m )\n\u001b[0;32m     13\u001b[0m \u001b[38;5;66;03m# run the agent\u001b[39;00m\n\u001b[1;32m---> 14\u001b[0m \u001b[43magent_chain\u001b[49m\u001b[38;5;241;43m.\u001b[39;49m\u001b[43mrun\u001b[49m\u001b[43m(\u001b[49m\u001b[38;5;124;43m\"\u001b[39;49m\u001b[38;5;124;43mWhat happened in the latest Dehradun car accident of Innova\u001b[39;49m\u001b[38;5;124;43m\"\u001b[39;49m\u001b[43m)\u001b[49m\n",
      "File \u001b[1;32mc:\\Users\\Charanjeet Juneja\\AppData\\Local\\Programs\\Python\\Python311\\Lib\\site-packages\\langchain_core\\_api\\deprecation.py:168\u001b[0m, in \u001b[0;36mdeprecated.<locals>.deprecate.<locals>.warning_emitting_wrapper\u001b[1;34m(*args, **kwargs)\u001b[0m\n\u001b[0;32m    166\u001b[0m     warned \u001b[38;5;241m=\u001b[39m \u001b[38;5;28;01mTrue\u001b[39;00m\n\u001b[0;32m    167\u001b[0m     emit_warning()\n\u001b[1;32m--> 168\u001b[0m \u001b[38;5;28;01mreturn\u001b[39;00m \u001b[43mwrapped\u001b[49m\u001b[43m(\u001b[49m\u001b[38;5;241;43m*\u001b[39;49m\u001b[43margs\u001b[49m\u001b[43m,\u001b[49m\u001b[43m \u001b[49m\u001b[38;5;241;43m*\u001b[39;49m\u001b[38;5;241;43m*\u001b[39;49m\u001b[43mkwargs\u001b[49m\u001b[43m)\u001b[49m\n",
      "File \u001b[1;32mc:\\Users\\Charanjeet Juneja\\AppData\\Local\\Programs\\Python\\Python311\\Lib\\site-packages\\langchain\\chains\\base.py:600\u001b[0m, in \u001b[0;36mChain.run\u001b[1;34m(self, callbacks, tags, metadata, *args, **kwargs)\u001b[0m\n\u001b[0;32m    598\u001b[0m     \u001b[38;5;28;01mif\u001b[39;00m \u001b[38;5;28mlen\u001b[39m(args) \u001b[38;5;241m!=\u001b[39m \u001b[38;5;241m1\u001b[39m:\n\u001b[0;32m    599\u001b[0m         \u001b[38;5;28;01mraise\u001b[39;00m \u001b[38;5;167;01mValueError\u001b[39;00m(\u001b[38;5;124m\"\u001b[39m\u001b[38;5;124m`run` supports only one positional argument.\u001b[39m\u001b[38;5;124m\"\u001b[39m)\n\u001b[1;32m--> 600\u001b[0m     \u001b[38;5;28;01mreturn\u001b[39;00m \u001b[38;5;28;43mself\u001b[39;49m\u001b[43m(\u001b[49m\u001b[43margs\u001b[49m\u001b[43m[\u001b[49m\u001b[38;5;241;43m0\u001b[39;49m\u001b[43m]\u001b[49m\u001b[43m,\u001b[49m\u001b[43m \u001b[49m\u001b[43mcallbacks\u001b[49m\u001b[38;5;241;43m=\u001b[39;49m\u001b[43mcallbacks\u001b[49m\u001b[43m,\u001b[49m\u001b[43m \u001b[49m\u001b[43mtags\u001b[49m\u001b[38;5;241;43m=\u001b[39;49m\u001b[43mtags\u001b[49m\u001b[43m,\u001b[49m\u001b[43m \u001b[49m\u001b[43mmetadata\u001b[49m\u001b[38;5;241;43m=\u001b[39;49m\u001b[43mmetadata\u001b[49m\u001b[43m)\u001b[49m[\n\u001b[0;32m    601\u001b[0m         _output_key\n\u001b[0;32m    602\u001b[0m     ]\n\u001b[0;32m    604\u001b[0m \u001b[38;5;28;01mif\u001b[39;00m kwargs \u001b[38;5;129;01mand\u001b[39;00m \u001b[38;5;129;01mnot\u001b[39;00m args:\n\u001b[0;32m    605\u001b[0m     \u001b[38;5;28;01mreturn\u001b[39;00m \u001b[38;5;28mself\u001b[39m(kwargs, callbacks\u001b[38;5;241m=\u001b[39mcallbacks, tags\u001b[38;5;241m=\u001b[39mtags, metadata\u001b[38;5;241m=\u001b[39mmetadata)[\n\u001b[0;32m    606\u001b[0m         _output_key\n\u001b[0;32m    607\u001b[0m     ]\n",
      "File \u001b[1;32mc:\\Users\\Charanjeet Juneja\\AppData\\Local\\Programs\\Python\\Python311\\Lib\\site-packages\\langchain_core\\_api\\deprecation.py:168\u001b[0m, in \u001b[0;36mdeprecated.<locals>.deprecate.<locals>.warning_emitting_wrapper\u001b[1;34m(*args, **kwargs)\u001b[0m\n\u001b[0;32m    166\u001b[0m     warned \u001b[38;5;241m=\u001b[39m \u001b[38;5;28;01mTrue\u001b[39;00m\n\u001b[0;32m    167\u001b[0m     emit_warning()\n\u001b[1;32m--> 168\u001b[0m \u001b[38;5;28;01mreturn\u001b[39;00m \u001b[43mwrapped\u001b[49m\u001b[43m(\u001b[49m\u001b[38;5;241;43m*\u001b[39;49m\u001b[43margs\u001b[49m\u001b[43m,\u001b[49m\u001b[43m \u001b[49m\u001b[38;5;241;43m*\u001b[39;49m\u001b[38;5;241;43m*\u001b[39;49m\u001b[43mkwargs\u001b[49m\u001b[43m)\u001b[49m\n",
      "File \u001b[1;32mc:\\Users\\Charanjeet Juneja\\AppData\\Local\\Programs\\Python\\Python311\\Lib\\site-packages\\langchain\\chains\\base.py:383\u001b[0m, in \u001b[0;36mChain.__call__\u001b[1;34m(self, inputs, return_only_outputs, callbacks, tags, metadata, run_name, include_run_info)\u001b[0m\n\u001b[0;32m    351\u001b[0m \u001b[38;5;250m\u001b[39m\u001b[38;5;124;03m\"\"\"Execute the chain.\u001b[39;00m\n\u001b[0;32m    352\u001b[0m \n\u001b[0;32m    353\u001b[0m \u001b[38;5;124;03mArgs:\u001b[39;00m\n\u001b[1;32m   (...)\u001b[0m\n\u001b[0;32m    374\u001b[0m \u001b[38;5;124;03m        `Chain.output_keys`.\u001b[39;00m\n\u001b[0;32m    375\u001b[0m \u001b[38;5;124;03m\"\"\"\u001b[39;00m\n\u001b[0;32m    376\u001b[0m config \u001b[38;5;241m=\u001b[39m {\n\u001b[0;32m    377\u001b[0m     \u001b[38;5;124m\"\u001b[39m\u001b[38;5;124mcallbacks\u001b[39m\u001b[38;5;124m\"\u001b[39m: callbacks,\n\u001b[0;32m    378\u001b[0m     \u001b[38;5;124m\"\u001b[39m\u001b[38;5;124mtags\u001b[39m\u001b[38;5;124m\"\u001b[39m: tags,\n\u001b[0;32m    379\u001b[0m     \u001b[38;5;124m\"\u001b[39m\u001b[38;5;124mmetadata\u001b[39m\u001b[38;5;124m\"\u001b[39m: metadata,\n\u001b[0;32m    380\u001b[0m     \u001b[38;5;124m\"\u001b[39m\u001b[38;5;124mrun_name\u001b[39m\u001b[38;5;124m\"\u001b[39m: run_name,\n\u001b[0;32m    381\u001b[0m }\n\u001b[1;32m--> 383\u001b[0m \u001b[38;5;28;01mreturn\u001b[39;00m \u001b[38;5;28;43mself\u001b[39;49m\u001b[38;5;241;43m.\u001b[39;49m\u001b[43minvoke\u001b[49m\u001b[43m(\u001b[49m\n\u001b[0;32m    384\u001b[0m \u001b[43m    \u001b[49m\u001b[43minputs\u001b[49m\u001b[43m,\u001b[49m\n\u001b[0;32m    385\u001b[0m \u001b[43m    \u001b[49m\u001b[43mcast\u001b[49m\u001b[43m(\u001b[49m\u001b[43mRunnableConfig\u001b[49m\u001b[43m,\u001b[49m\u001b[43m \u001b[49m\u001b[43m{\u001b[49m\u001b[43mk\u001b[49m\u001b[43m:\u001b[49m\u001b[43m \u001b[49m\u001b[43mv\u001b[49m\u001b[43m \u001b[49m\u001b[38;5;28;43;01mfor\u001b[39;49;00m\u001b[43m \u001b[49m\u001b[43mk\u001b[49m\u001b[43m,\u001b[49m\u001b[43m \u001b[49m\u001b[43mv\u001b[49m\u001b[43m \u001b[49m\u001b[38;5;129;43;01min\u001b[39;49;00m\u001b[43m \u001b[49m\u001b[43mconfig\u001b[49m\u001b[38;5;241;43m.\u001b[39;49m\u001b[43mitems\u001b[49m\u001b[43m(\u001b[49m\u001b[43m)\u001b[49m\u001b[43m \u001b[49m\u001b[38;5;28;43;01mif\u001b[39;49;00m\u001b[43m \u001b[49m\u001b[43mv\u001b[49m\u001b[43m \u001b[49m\u001b[38;5;129;43;01mis\u001b[39;49;00m\u001b[43m \u001b[49m\u001b[38;5;129;43;01mnot\u001b[39;49;00m\u001b[43m \u001b[49m\u001b[38;5;28;43;01mNone\u001b[39;49;00m\u001b[43m}\u001b[49m\u001b[43m)\u001b[49m\u001b[43m,\u001b[49m\n\u001b[0;32m    386\u001b[0m \u001b[43m    \u001b[49m\u001b[43mreturn_only_outputs\u001b[49m\u001b[38;5;241;43m=\u001b[39;49m\u001b[43mreturn_only_outputs\u001b[49m\u001b[43m,\u001b[49m\n\u001b[0;32m    387\u001b[0m \u001b[43m    \u001b[49m\u001b[43minclude_run_info\u001b[49m\u001b[38;5;241;43m=\u001b[39;49m\u001b[43minclude_run_info\u001b[49m\u001b[43m,\u001b[49m\n\u001b[0;32m    388\u001b[0m \u001b[43m\u001b[49m\u001b[43m)\u001b[49m\n",
      "File \u001b[1;32mc:\\Users\\Charanjeet Juneja\\AppData\\Local\\Programs\\Python\\Python311\\Lib\\site-packages\\langchain\\chains\\base.py:166\u001b[0m, in \u001b[0;36mChain.invoke\u001b[1;34m(self, input, config, **kwargs)\u001b[0m\n\u001b[0;32m    164\u001b[0m \u001b[38;5;28;01mexcept\u001b[39;00m \u001b[38;5;167;01mBaseException\u001b[39;00m \u001b[38;5;28;01mas\u001b[39;00m e:\n\u001b[0;32m    165\u001b[0m     run_manager\u001b[38;5;241m.\u001b[39mon_chain_error(e)\n\u001b[1;32m--> 166\u001b[0m     \u001b[38;5;28;01mraise\u001b[39;00m e\n\u001b[0;32m    167\u001b[0m run_manager\u001b[38;5;241m.\u001b[39mon_chain_end(outputs)\n\u001b[0;32m    169\u001b[0m \u001b[38;5;28;01mif\u001b[39;00m include_run_info:\n",
      "File \u001b[1;32mc:\\Users\\Charanjeet Juneja\\AppData\\Local\\Programs\\Python\\Python311\\Lib\\site-packages\\langchain\\chains\\base.py:156\u001b[0m, in \u001b[0;36mChain.invoke\u001b[1;34m(self, input, config, **kwargs)\u001b[0m\n\u001b[0;32m    153\u001b[0m \u001b[38;5;28;01mtry\u001b[39;00m:\n\u001b[0;32m    154\u001b[0m     \u001b[38;5;28mself\u001b[39m\u001b[38;5;241m.\u001b[39m_validate_inputs(inputs)\n\u001b[0;32m    155\u001b[0m     outputs \u001b[38;5;241m=\u001b[39m (\n\u001b[1;32m--> 156\u001b[0m         \u001b[38;5;28;43mself\u001b[39;49m\u001b[38;5;241;43m.\u001b[39;49m\u001b[43m_call\u001b[49m\u001b[43m(\u001b[49m\u001b[43minputs\u001b[49m\u001b[43m,\u001b[49m\u001b[43m \u001b[49m\u001b[43mrun_manager\u001b[49m\u001b[38;5;241;43m=\u001b[39;49m\u001b[43mrun_manager\u001b[49m\u001b[43m)\u001b[49m\n\u001b[0;32m    157\u001b[0m         \u001b[38;5;28;01mif\u001b[39;00m new_arg_supported\n\u001b[0;32m    158\u001b[0m         \u001b[38;5;28;01melse\u001b[39;00m \u001b[38;5;28mself\u001b[39m\u001b[38;5;241m.\u001b[39m_call(inputs)\n\u001b[0;32m    159\u001b[0m     )\n\u001b[0;32m    161\u001b[0m     final_outputs: Dict[\u001b[38;5;28mstr\u001b[39m, Any] \u001b[38;5;241m=\u001b[39m \u001b[38;5;28mself\u001b[39m\u001b[38;5;241m.\u001b[39mprep_outputs(\n\u001b[0;32m    162\u001b[0m         inputs, outputs, return_only_outputs\n\u001b[0;32m    163\u001b[0m     )\n\u001b[0;32m    164\u001b[0m \u001b[38;5;28;01mexcept\u001b[39;00m \u001b[38;5;167;01mBaseException\u001b[39;00m \u001b[38;5;28;01mas\u001b[39;00m e:\n",
      "File \u001b[1;32mc:\\Users\\Charanjeet Juneja\\AppData\\Local\\Programs\\Python\\Python311\\Lib\\site-packages\\langchain\\agents\\agent.py:1433\u001b[0m, in \u001b[0;36mAgentExecutor._call\u001b[1;34m(self, inputs, run_manager)\u001b[0m\n\u001b[0;32m   1431\u001b[0m \u001b[38;5;66;03m# We now enter the agent loop (until it returns something).\u001b[39;00m\n\u001b[0;32m   1432\u001b[0m \u001b[38;5;28;01mwhile\u001b[39;00m \u001b[38;5;28mself\u001b[39m\u001b[38;5;241m.\u001b[39m_should_continue(iterations, time_elapsed):\n\u001b[1;32m-> 1433\u001b[0m     next_step_output \u001b[38;5;241m=\u001b[39m \u001b[38;5;28;43mself\u001b[39;49m\u001b[38;5;241;43m.\u001b[39;49m\u001b[43m_take_next_step\u001b[49m\u001b[43m(\u001b[49m\n\u001b[0;32m   1434\u001b[0m \u001b[43m        \u001b[49m\u001b[43mname_to_tool_map\u001b[49m\u001b[43m,\u001b[49m\n\u001b[0;32m   1435\u001b[0m \u001b[43m        \u001b[49m\u001b[43mcolor_mapping\u001b[49m\u001b[43m,\u001b[49m\n\u001b[0;32m   1436\u001b[0m \u001b[43m        \u001b[49m\u001b[43minputs\u001b[49m\u001b[43m,\u001b[49m\n\u001b[0;32m   1437\u001b[0m \u001b[43m        \u001b[49m\u001b[43mintermediate_steps\u001b[49m\u001b[43m,\u001b[49m\n\u001b[0;32m   1438\u001b[0m \u001b[43m        \u001b[49m\u001b[43mrun_manager\u001b[49m\u001b[38;5;241;43m=\u001b[39;49m\u001b[43mrun_manager\u001b[49m\u001b[43m,\u001b[49m\n\u001b[0;32m   1439\u001b[0m \u001b[43m    \u001b[49m\u001b[43m)\u001b[49m\n\u001b[0;32m   1440\u001b[0m     \u001b[38;5;28;01mif\u001b[39;00m \u001b[38;5;28misinstance\u001b[39m(next_step_output, AgentFinish):\n\u001b[0;32m   1441\u001b[0m         \u001b[38;5;28;01mreturn\u001b[39;00m \u001b[38;5;28mself\u001b[39m\u001b[38;5;241m.\u001b[39m_return(\n\u001b[0;32m   1442\u001b[0m             next_step_output, intermediate_steps, run_manager\u001b[38;5;241m=\u001b[39mrun_manager\n\u001b[0;32m   1443\u001b[0m         )\n",
      "File \u001b[1;32mc:\\Users\\Charanjeet Juneja\\AppData\\Local\\Programs\\Python\\Python311\\Lib\\site-packages\\langchain\\agents\\agent.py:1139\u001b[0m, in \u001b[0;36mAgentExecutor._take_next_step\u001b[1;34m(self, name_to_tool_map, color_mapping, inputs, intermediate_steps, run_manager)\u001b[0m\n\u001b[0;32m   1130\u001b[0m \u001b[38;5;28;01mdef\u001b[39;00m \u001b[38;5;21m_take_next_step\u001b[39m(\n\u001b[0;32m   1131\u001b[0m     \u001b[38;5;28mself\u001b[39m,\n\u001b[0;32m   1132\u001b[0m     name_to_tool_map: Dict[\u001b[38;5;28mstr\u001b[39m, BaseTool],\n\u001b[1;32m   (...)\u001b[0m\n\u001b[0;32m   1136\u001b[0m     run_manager: Optional[CallbackManagerForChainRun] \u001b[38;5;241m=\u001b[39m \u001b[38;5;28;01mNone\u001b[39;00m,\n\u001b[0;32m   1137\u001b[0m ) \u001b[38;5;241m-\u001b[39m\u001b[38;5;241m>\u001b[39m Union[AgentFinish, List[Tuple[AgentAction, \u001b[38;5;28mstr\u001b[39m]]]:\n\u001b[0;32m   1138\u001b[0m     \u001b[38;5;28;01mreturn\u001b[39;00m \u001b[38;5;28mself\u001b[39m\u001b[38;5;241m.\u001b[39m_consume_next_step(\n\u001b[1;32m-> 1139\u001b[0m         \u001b[43m[\u001b[49m\n\u001b[0;32m   1140\u001b[0m \u001b[43m            \u001b[49m\u001b[43ma\u001b[49m\n\u001b[0;32m   1141\u001b[0m \u001b[43m            \u001b[49m\u001b[38;5;28;43;01mfor\u001b[39;49;00m\u001b[43m \u001b[49m\u001b[43ma\u001b[49m\u001b[43m \u001b[49m\u001b[38;5;129;43;01min\u001b[39;49;00m\u001b[43m \u001b[49m\u001b[38;5;28;43mself\u001b[39;49m\u001b[38;5;241;43m.\u001b[39;49m\u001b[43m_iter_next_step\u001b[49m\u001b[43m(\u001b[49m\n\u001b[0;32m   1142\u001b[0m \u001b[43m                \u001b[49m\u001b[43mname_to_tool_map\u001b[49m\u001b[43m,\u001b[49m\n\u001b[0;32m   1143\u001b[0m \u001b[43m                \u001b[49m\u001b[43mcolor_mapping\u001b[49m\u001b[43m,\u001b[49m\n\u001b[0;32m   1144\u001b[0m \u001b[43m                \u001b[49m\u001b[43minputs\u001b[49m\u001b[43m,\u001b[49m\n\u001b[0;32m   1145\u001b[0m \u001b[43m                \u001b[49m\u001b[43mintermediate_steps\u001b[49m\u001b[43m,\u001b[49m\n\u001b[0;32m   1146\u001b[0m \u001b[43m                \u001b[49m\u001b[43mrun_manager\u001b[49m\u001b[43m,\u001b[49m\n\u001b[0;32m   1147\u001b[0m \u001b[43m            \u001b[49m\u001b[43m)\u001b[49m\n\u001b[0;32m   1148\u001b[0m \u001b[43m        \u001b[49m\u001b[43m]\u001b[49m\n\u001b[0;32m   1149\u001b[0m     )\n",
      "File \u001b[1;32mc:\\Users\\Charanjeet Juneja\\AppData\\Local\\Programs\\Python\\Python311\\Lib\\site-packages\\langchain\\agents\\agent.py:1139\u001b[0m, in \u001b[0;36m<listcomp>\u001b[1;34m(.0)\u001b[0m\n\u001b[0;32m   1130\u001b[0m \u001b[38;5;28;01mdef\u001b[39;00m \u001b[38;5;21m_take_next_step\u001b[39m(\n\u001b[0;32m   1131\u001b[0m     \u001b[38;5;28mself\u001b[39m,\n\u001b[0;32m   1132\u001b[0m     name_to_tool_map: Dict[\u001b[38;5;28mstr\u001b[39m, BaseTool],\n\u001b[1;32m   (...)\u001b[0m\n\u001b[0;32m   1136\u001b[0m     run_manager: Optional[CallbackManagerForChainRun] \u001b[38;5;241m=\u001b[39m \u001b[38;5;28;01mNone\u001b[39;00m,\n\u001b[0;32m   1137\u001b[0m ) \u001b[38;5;241m-\u001b[39m\u001b[38;5;241m>\u001b[39m Union[AgentFinish, List[Tuple[AgentAction, \u001b[38;5;28mstr\u001b[39m]]]:\n\u001b[0;32m   1138\u001b[0m     \u001b[38;5;28;01mreturn\u001b[39;00m \u001b[38;5;28mself\u001b[39m\u001b[38;5;241m.\u001b[39m_consume_next_step(\n\u001b[1;32m-> 1139\u001b[0m         \u001b[43m[\u001b[49m\n\u001b[0;32m   1140\u001b[0m \u001b[43m            \u001b[49m\u001b[43ma\u001b[49m\n\u001b[0;32m   1141\u001b[0m \u001b[43m            \u001b[49m\u001b[38;5;28;43;01mfor\u001b[39;49;00m\u001b[43m \u001b[49m\u001b[43ma\u001b[49m\u001b[43m \u001b[49m\u001b[38;5;129;43;01min\u001b[39;49;00m\u001b[43m \u001b[49m\u001b[38;5;28;43mself\u001b[39;49m\u001b[38;5;241;43m.\u001b[39;49m\u001b[43m_iter_next_step\u001b[49m\u001b[43m(\u001b[49m\n\u001b[0;32m   1142\u001b[0m \u001b[43m                \u001b[49m\u001b[43mname_to_tool_map\u001b[49m\u001b[43m,\u001b[49m\n\u001b[0;32m   1143\u001b[0m \u001b[43m                \u001b[49m\u001b[43mcolor_mapping\u001b[49m\u001b[43m,\u001b[49m\n\u001b[0;32m   1144\u001b[0m \u001b[43m                \u001b[49m\u001b[43minputs\u001b[49m\u001b[43m,\u001b[49m\n\u001b[0;32m   1145\u001b[0m \u001b[43m                \u001b[49m\u001b[43mintermediate_steps\u001b[49m\u001b[43m,\u001b[49m\n\u001b[0;32m   1146\u001b[0m \u001b[43m                \u001b[49m\u001b[43mrun_manager\u001b[49m\u001b[43m,\u001b[49m\n\u001b[0;32m   1147\u001b[0m \u001b[43m            \u001b[49m\u001b[43m)\u001b[49m\n\u001b[0;32m   1148\u001b[0m \u001b[43m        \u001b[49m\u001b[43m]\u001b[49m\n\u001b[0;32m   1149\u001b[0m     )\n",
      "File \u001b[1;32mc:\\Users\\Charanjeet Juneja\\AppData\\Local\\Programs\\Python\\Python311\\Lib\\site-packages\\langchain\\agents\\agent.py:1224\u001b[0m, in \u001b[0;36mAgentExecutor._iter_next_step\u001b[1;34m(self, name_to_tool_map, color_mapping, inputs, intermediate_steps, run_manager)\u001b[0m\n\u001b[0;32m   1222\u001b[0m     \u001b[38;5;28;01myield\u001b[39;00m agent_action\n\u001b[0;32m   1223\u001b[0m \u001b[38;5;28;01mfor\u001b[39;00m agent_action \u001b[38;5;129;01min\u001b[39;00m actions:\n\u001b[1;32m-> 1224\u001b[0m     \u001b[38;5;28;01myield\u001b[39;00m \u001b[38;5;28;43mself\u001b[39;49m\u001b[38;5;241;43m.\u001b[39;49m\u001b[43m_perform_agent_action\u001b[49m\u001b[43m(\u001b[49m\n\u001b[0;32m   1225\u001b[0m \u001b[43m        \u001b[49m\u001b[43mname_to_tool_map\u001b[49m\u001b[43m,\u001b[49m\u001b[43m \u001b[49m\u001b[43mcolor_mapping\u001b[49m\u001b[43m,\u001b[49m\u001b[43m \u001b[49m\u001b[43magent_action\u001b[49m\u001b[43m,\u001b[49m\u001b[43m \u001b[49m\u001b[43mrun_manager\u001b[49m\n\u001b[0;32m   1226\u001b[0m \u001b[43m    \u001b[49m\u001b[43m)\u001b[49m\n",
      "File \u001b[1;32mc:\\Users\\Charanjeet Juneja\\AppData\\Local\\Programs\\Python\\Python311\\Lib\\site-packages\\langchain\\agents\\agent.py:1246\u001b[0m, in \u001b[0;36mAgentExecutor._perform_agent_action\u001b[1;34m(self, name_to_tool_map, color_mapping, agent_action, run_manager)\u001b[0m\n\u001b[0;32m   1244\u001b[0m         tool_run_kwargs[\u001b[38;5;124m\"\u001b[39m\u001b[38;5;124mllm_prefix\u001b[39m\u001b[38;5;124m\"\u001b[39m] \u001b[38;5;241m=\u001b[39m \u001b[38;5;124m\"\u001b[39m\u001b[38;5;124m\"\u001b[39m\n\u001b[0;32m   1245\u001b[0m     \u001b[38;5;66;03m# We then call the tool on the tool input to get an observation\u001b[39;00m\n\u001b[1;32m-> 1246\u001b[0m     observation \u001b[38;5;241m=\u001b[39m \u001b[43mtool\u001b[49m\u001b[38;5;241;43m.\u001b[39;49m\u001b[43mrun\u001b[49m\u001b[43m(\u001b[49m\n\u001b[0;32m   1247\u001b[0m \u001b[43m        \u001b[49m\u001b[43magent_action\u001b[49m\u001b[38;5;241;43m.\u001b[39;49m\u001b[43mtool_input\u001b[49m\u001b[43m,\u001b[49m\n\u001b[0;32m   1248\u001b[0m \u001b[43m        \u001b[49m\u001b[43mverbose\u001b[49m\u001b[38;5;241;43m=\u001b[39;49m\u001b[38;5;28;43mself\u001b[39;49m\u001b[38;5;241;43m.\u001b[39;49m\u001b[43mverbose\u001b[49m\u001b[43m,\u001b[49m\n\u001b[0;32m   1249\u001b[0m \u001b[43m        \u001b[49m\u001b[43mcolor\u001b[49m\u001b[38;5;241;43m=\u001b[39;49m\u001b[43mcolor\u001b[49m\u001b[43m,\u001b[49m\n\u001b[0;32m   1250\u001b[0m \u001b[43m        \u001b[49m\u001b[43mcallbacks\u001b[49m\u001b[38;5;241;43m=\u001b[39;49m\u001b[43mrun_manager\u001b[49m\u001b[38;5;241;43m.\u001b[39;49m\u001b[43mget_child\u001b[49m\u001b[43m(\u001b[49m\u001b[43m)\u001b[49m\u001b[43m \u001b[49m\u001b[38;5;28;43;01mif\u001b[39;49;00m\u001b[43m \u001b[49m\u001b[43mrun_manager\u001b[49m\u001b[43m \u001b[49m\u001b[38;5;28;43;01melse\u001b[39;49;00m\u001b[43m \u001b[49m\u001b[38;5;28;43;01mNone\u001b[39;49;00m\u001b[43m,\u001b[49m\n\u001b[0;32m   1251\u001b[0m \u001b[43m        \u001b[49m\u001b[38;5;241;43m*\u001b[39;49m\u001b[38;5;241;43m*\u001b[39;49m\u001b[43mtool_run_kwargs\u001b[49m\u001b[43m,\u001b[49m\n\u001b[0;32m   1252\u001b[0m \u001b[43m    \u001b[49m\u001b[43m)\u001b[49m\n\u001b[0;32m   1253\u001b[0m \u001b[38;5;28;01melse\u001b[39;00m:\n\u001b[0;32m   1254\u001b[0m     tool_run_kwargs \u001b[38;5;241m=\u001b[39m \u001b[38;5;28mself\u001b[39m\u001b[38;5;241m.\u001b[39magent\u001b[38;5;241m.\u001b[39mtool_run_logging_kwargs()\n",
      "File \u001b[1;32mc:\\Users\\Charanjeet Juneja\\AppData\\Local\\Programs\\Python\\Python311\\Lib\\site-packages\\langchain_core\\tools.py:417\u001b[0m, in \u001b[0;36mBaseTool.run\u001b[1;34m(self, tool_input, verbose, start_color, color, callbacks, tags, metadata, run_name, run_id, config, **kwargs)\u001b[0m\n\u001b[0;32m    415\u001b[0m \u001b[38;5;28;01mexcept\u001b[39;00m ValidationError \u001b[38;5;28;01mas\u001b[39;00m e:\n\u001b[0;32m    416\u001b[0m     \u001b[38;5;28;01mif\u001b[39;00m \u001b[38;5;129;01mnot\u001b[39;00m \u001b[38;5;28mself\u001b[39m\u001b[38;5;241m.\u001b[39mhandle_validation_error:\n\u001b[1;32m--> 417\u001b[0m         \u001b[38;5;28;01mraise\u001b[39;00m e\n\u001b[0;32m    418\u001b[0m     \u001b[38;5;28;01melif\u001b[39;00m \u001b[38;5;28misinstance\u001b[39m(\u001b[38;5;28mself\u001b[39m\u001b[38;5;241m.\u001b[39mhandle_validation_error, \u001b[38;5;28mbool\u001b[39m):\n\u001b[0;32m    419\u001b[0m         observation \u001b[38;5;241m=\u001b[39m \u001b[38;5;124m\"\u001b[39m\u001b[38;5;124mTool input validation error\u001b[39m\u001b[38;5;124m\"\u001b[39m\n",
      "File \u001b[1;32mc:\\Users\\Charanjeet Juneja\\AppData\\Local\\Programs\\Python\\Python311\\Lib\\site-packages\\langchain_core\\tools.py:406\u001b[0m, in \u001b[0;36mBaseTool.run\u001b[1;34m(self, tool_input, verbose, start_color, color, callbacks, tags, metadata, run_name, run_id, config, **kwargs)\u001b[0m\n\u001b[0;32m    404\u001b[0m context \u001b[38;5;241m=\u001b[39m copy_context()\n\u001b[0;32m    405\u001b[0m context\u001b[38;5;241m.\u001b[39mrun(_set_config_context, child_config)\n\u001b[1;32m--> 406\u001b[0m parsed_input \u001b[38;5;241m=\u001b[39m \u001b[38;5;28;43mself\u001b[39;49m\u001b[38;5;241;43m.\u001b[39;49m\u001b[43m_parse_input\u001b[49m\u001b[43m(\u001b[49m\u001b[43mtool_input\u001b[49m\u001b[43m)\u001b[49m\n\u001b[0;32m    407\u001b[0m tool_args, tool_kwargs \u001b[38;5;241m=\u001b[39m \u001b[38;5;28mself\u001b[39m\u001b[38;5;241m.\u001b[39m_to_args_and_kwargs(parsed_input)\n\u001b[0;32m    408\u001b[0m observation \u001b[38;5;241m=\u001b[39m (\n\u001b[0;32m    409\u001b[0m     context\u001b[38;5;241m.\u001b[39mrun(\n\u001b[0;32m    410\u001b[0m         \u001b[38;5;28mself\u001b[39m\u001b[38;5;241m.\u001b[39m_run, \u001b[38;5;241m*\u001b[39mtool_args, run_manager\u001b[38;5;241m=\u001b[39mrun_manager, \u001b[38;5;241m*\u001b[39m\u001b[38;5;241m*\u001b[39mtool_kwargs\n\u001b[1;32m   (...)\u001b[0m\n\u001b[0;32m    413\u001b[0m     \u001b[38;5;28;01melse\u001b[39;00m context\u001b[38;5;241m.\u001b[39mrun(\u001b[38;5;28mself\u001b[39m\u001b[38;5;241m.\u001b[39m_run, \u001b[38;5;241m*\u001b[39mtool_args, \u001b[38;5;241m*\u001b[39m\u001b[38;5;241m*\u001b[39mtool_kwargs)\n\u001b[0;32m    414\u001b[0m )\n",
      "File \u001b[1;32mc:\\Users\\Charanjeet Juneja\\AppData\\Local\\Programs\\Python\\Python311\\Lib\\site-packages\\langchain_core\\tools.py:304\u001b[0m, in \u001b[0;36mBaseTool._parse_input\u001b[1;34m(self, tool_input)\u001b[0m\n\u001b[0;32m    302\u001b[0m \u001b[38;5;28;01melse\u001b[39;00m:\n\u001b[0;32m    303\u001b[0m     \u001b[38;5;28;01mif\u001b[39;00m input_args \u001b[38;5;129;01mis\u001b[39;00m \u001b[38;5;129;01mnot\u001b[39;00m \u001b[38;5;28;01mNone\u001b[39;00m:\n\u001b[1;32m--> 304\u001b[0m         result \u001b[38;5;241m=\u001b[39m \u001b[43minput_args\u001b[49m\u001b[38;5;241;43m.\u001b[39;49m\u001b[43mparse_obj\u001b[49m\u001b[43m(\u001b[49m\u001b[43mtool_input\u001b[49m\u001b[43m)\u001b[49m\n\u001b[0;32m    305\u001b[0m         \u001b[38;5;28;01mreturn\u001b[39;00m {\n\u001b[0;32m    306\u001b[0m             k: \u001b[38;5;28mgetattr\u001b[39m(result, k)\n\u001b[0;32m    307\u001b[0m             \u001b[38;5;28;01mfor\u001b[39;00m k, v \u001b[38;5;129;01min\u001b[39;00m result\u001b[38;5;241m.\u001b[39mdict()\u001b[38;5;241m.\u001b[39mitems()\n\u001b[0;32m    308\u001b[0m             \u001b[38;5;28;01mif\u001b[39;00m k \u001b[38;5;129;01min\u001b[39;00m tool_input\n\u001b[0;32m    309\u001b[0m         }\n\u001b[0;32m    310\u001b[0m \u001b[38;5;28;01mreturn\u001b[39;00m tool_input\n",
      "File \u001b[1;32mc:\\Users\\Charanjeet Juneja\\AppData\\Local\\Programs\\Python\\Python311\\Lib\\site-packages\\pydantic\\main.py:526\u001b[0m, in \u001b[0;36mpydantic.main.BaseModel.parse_obj\u001b[1;34m()\u001b[0m\n",
      "File \u001b[1;32mc:\\Users\\Charanjeet Juneja\\AppData\\Local\\Programs\\Python\\Python311\\Lib\\site-packages\\pydantic\\main.py:341\u001b[0m, in \u001b[0;36mpydantic.main.BaseModel.__init__\u001b[1;34m()\u001b[0m\n",
      "\u001b[1;31mValidationError\u001b[0m: 1 validation error for TavilyInput\nquery\n  str type expected (type=type_error.str)"
     ]
    }
   ],
   "source": [
    "lm =ChatGroq(model=\"llama-3.1-70b-versatile\", temperature=0.7)\n",
    "search = TavilySearchAPIWrapper()\n",
    "tavily_tool = TavilySearchResults(api_wrapper=search)\n",
    "\n",
    "# initialize the agent\n",
    "agent_chain = initialize_agent(\n",
    "    [tavily_tool],\n",
    "    llm,\n",
    "    agent=AgentType.STRUCTURED_CHAT_ZERO_SHOT_REACT_DESCRIPTION,\n",
    "    verbose=True,\n",
    ")\n",
    "\n",
    "# run the agent\n",
    "agent_chain.run(\"What happened in the latest Dehradun car accident of Innova\")\n",
    "    "
   ]
  },
  {
   "cell_type": "code",
   "execution_count": 91,
   "metadata": {},
   "outputs": [
    {
     "data": {
      "text/plain": [
       "ChatGroq(client=<groq.resources.chat.completions.Completions object at 0x00000161BE9C2B90>, async_client=<groq.resources.chat.completions.AsyncCompletions object at 0x00000161BE9CC690>, model_name='llama-3.1-70b-versatile', groq_api_key=SecretStr('**********'))"
      ]
     },
     "execution_count": 91,
     "metadata": {},
     "output_type": "execute_result"
    }
   ],
   "source": [
    "lm"
   ]
  }
 ],
 "metadata": {
  "kernelspec": {
   "display_name": "Python 3",
   "language": "python",
   "name": "python3"
  },
  "language_info": {
   "codemirror_mode": {
    "name": "ipython",
    "version": 3
   },
   "file_extension": ".py",
   "mimetype": "text/x-python",
   "name": "python",
   "nbconvert_exporter": "python",
   "pygments_lexer": "ipython3",
   "version": "3.11.5"
  }
 },
 "nbformat": 4,
 "nbformat_minor": 2
}
