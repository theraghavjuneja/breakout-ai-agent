{
 "cells": [
  {
   "cell_type": "code",
   "execution_count": 23,
   "metadata": {},
   "outputs": [],
   "source": [
    "from langchain_groq import ChatGroq\n",
    "from langchain.agents import load_tools,Tool,initialize_agent"
   ]
  },
  {
   "cell_type": "code",
   "execution_count": 24,
   "metadata": {},
   "outputs": [],
   "source": [
    "llm=ChatGroq(model_name=\"llama-3.1-70b-versatile\",temperature=0.2)"
   ]
  },
  {
   "cell_type": "code",
   "execution_count": 25,
   "metadata": {},
   "outputs": [],
   "source": [
    "from langchain.prompts import PromptTemplate"
   ]
  },
  {
   "cell_type": "code",
   "execution_count": 26,
   "metadata": {},
   "outputs": [],
   "source": [
    "# first api serp api\n",
    "from langchain_community.utilities import SerpAPIWrapper\n",
    "params = {\n",
    "    \"engine\": \"google\",\n",
    "    \"gl\": \"in\",\n",
    "    \"google_domain\":\"google.co.in\",\n",
    "    \"hl\": \"en\",\n",
    "}\n",
    "search=SerpAPIWrapper()\n",
    "tools = [Tool(name=\"Get Answers\", func=search.run, description=\"This tool will help you search for any information of google if you give a good and specific search term\")]\n"
   ]
  },
  {
   "cell_type": "code",
   "execution_count": 27,
   "metadata": {},
   "outputs": [],
   "source": [
    "from langchain.agents import AgentExecutor,create_react_agent"
   ]
  },
  {
   "cell_type": "code",
   "execution_count": 28,
   "metadata": {},
   "outputs": [],
   "source": [
    "template = '''Answer the following questions as best you can. You have access to the following tools:\n",
    "{tools}\n",
    "Use the following format:\n",
    "Question: the input question you must answer\n",
    "Thought: you should always think about what to do\n",
    "Action: the action to take, should be one of [{tool_names}]\n",
    "Action Input: the input to the action\n",
    "Observation: the result of the action\n",
    "... (this Thought/Action/Action Input/Observation can repeat N times)\n",
    "Thought: I now know the final answer\n",
    "Final Answer: the final answer to the original input question\n",
    "If there is one answer just return it\n",
    "If there are more than one answers return all of them separated by commas\n",
    "Begin!\n",
    "Question: {input}\n",
    "Thought:{agent_scratchpad}'''\n",
    "prompt = PromptTemplate.from_template(template)\n",
    "search_agent = create_react_agent(llm, tools, prompt)\n",
    "agent_executor = AgentExecutor(\n",
    "    agent=search_agent,\n",
    "    tools=tools,\n",
    "    verbose=True,\n",
    "    \n",
    ")\n",
    "# answer=agent_executor.invoke({\"input\":\"Who is the CEO of Zomato?\"})"
   ]
  },
  {
   "cell_type": "code",
   "execution_count": 20,
   "metadata": {},
   "outputs": [
    {
     "name": "stdout",
     "output_type": "stream",
     "text": [
      "{'input': 'Who is the CEO of Zomato?', 'output': 'Deepinder Goyal'}\n"
     ]
    }
   ],
   "source": [
    "print(answer)"
   ]
  },
  {
   "cell_type": "code",
   "execution_count": 4,
   "metadata": {},
   "outputs": [],
   "source": [
    "# first api serp api\n",
    "from langchain_community.utilities import SerpAPIWrapper\n",
    "params = {\n",
    "    \"engine\": \"google\",\n",
    "    \"gl\": \"in\",\n",
    "    \"google_domain\":\"google.co.in\",\n",
    "    \"hl\": \"en\",\n",
    "}\n",
    "search=SerpAPIWrapper()"
   ]
  },
  {
   "cell_type": "code",
   "execution_count": 5,
   "metadata": {},
   "outputs": [
    {
     "name": "stderr",
     "output_type": "stream",
     "text": [
      "C:\\Users\\Charanjeet Juneja\\AppData\\Local\\Temp\\ipykernel_1952\\3765669257.py:2: LangChainDeprecationWarning: The function `initialize_agent` was deprecated in LangChain 0.1.0 and will be removed in 1.0. Use :meth:`~Use new agent constructor methods like create_react_agent, create_json_agent, create_structured_chat_agent, etc.` instead.\n",
      "  agent = initialize_agent(tools, llm, agent_type=\"zero-shot-react-description\", verbose=True,)\n"
     ]
    }
   ],
   "source": [
    "tools = [Tool(name=\"serpapi\", func=search.run, description=\"Search for information online\")]\n",
    "agent = initialize_agent(tools, llm, agent_type=\"zero-shot-react-description\", verbose=True,)\n"
   ]
  },
  {
   "cell_type": "code",
   "execution_count": 29,
   "metadata": {},
   "outputs": [
    {
     "name": "stdout",
     "output_type": "stream",
     "text": [
      "\n",
      "\n",
      "\u001b[1m> Entering new AgentExecutor chain...\u001b[0m\n",
      "\n",
      "\u001b[1m> Entering new AgentExecutor chain...\u001b[0m\n",
      "\n",
      "\n",
      "\n",
      "\u001b[1m> Entering new AgentExecutor chain...\u001b[0m\n",
      "\u001b[32;1m\u001b[1;3mThought: To find the CEO of Swiggy, I need to search for the current CEO of the company.\n",
      "\n",
      "Action: Get Answers\n",
      "Action Input: Swiggy CEO\u001b[0m\u001b[36;1m\u001b[1;3mCEO Sriharsha Majety\u001b[0m\u001b[32;1m\u001b[1;3mThought: I now know the final answer\n",
      "Final Answer: Sriharsha Majety\u001b[0m\n",
      "\n",
      "\u001b[1m> Finished chain.\u001b[0m\n",
      "Question: Who is the CEO of Swiggy?\n",
      "Answer: {'input': 'Who is the CEO of Swiggy?', 'output': 'Sriharsha Majety'}\n",
      "\n",
      "Question: Who is the CEO of BlinkIt?\n",
      "Answer: {'input': 'Who is the CEO of BlinkIt?', 'output': 'Albinder Dhindsa'}\n",
      "\n",
      "Question: Who is the CEO of Zomato?\n",
      "Answer: {'input': 'Who is the CEO of Zomato?', 'output': 'Deepinder Goyal'}\n",
      "\n"
     ]
    }
   ],
   "source": [
    "# for parallelry processing\n",
    "from concurrent.futures import ThreadPoolExecutor\n",
    "questions = [\n",
    "    \"Who is the CEO of Swiggy?\",\n",
    "    \"Who is the CEO of BlinkIt?\",\n",
    "    \"Who is the CEO of Zomato?\"\n",
    "]\n",
    "def ask_agent(question):\n",
    "    return {\"question\": question, \"answer\": agent_executor.invoke({\"input\": question})}\n",
    "with ThreadPoolExecutor() as executor:\n",
    "    results = list(executor.map(ask_agent, questions))\n",
    "for result in results:\n",
    "    print(f\"Question: {result['question']}\\nAnswer: {result['answer']}\\n\")"
   ]
  },
  {
   "cell_type": "code",
   "execution_count": null,
   "metadata": {},
   "outputs": [],
   "source": [
    "tools = [\n",
    "    Tool(\n",
    "        name=\"Intermediate Answer\",\n",
    "        func=search.run,\n",
    "        description=\"Searches Google to answer queries.\"\n",
    "    )\n",
    "]\n",
    "\n",
    "\n",
    "\n",
    "prompt = PromptTemplate.from_template(template)\n",
    "\n",
    "search_agent = create_react_agent(llm, tools, prompt)\n",
    "agent_executor = AgentExecutor(\n",
    "    agent=search_agent,\n",
    "    tools=tools,\n",
    "    verbose=True,\n",
    "    return_intermediate_steps=True,\n",
    ")\n",
    "\n",
    "agent_executor.invoke({\"input\": \"What is support email id of Zomato ? \"})\n"
   ]
  }
 ],
 "metadata": {
  "kernelspec": {
   "display_name": "breakoutenvironmen",
   "language": "python",
   "name": "python3"
  },
  "language_info": {
   "codemirror_mode": {
    "name": "ipython",
    "version": 3
   },
   "file_extension": ".py",
   "mimetype": "text/x-python",
   "name": "python",
   "nbconvert_exporter": "python",
   "pygments_lexer": "ipython3",
   "version": "3.11.5"
  }
 },
 "nbformat": 4,
 "nbformat_minor": 2
}
