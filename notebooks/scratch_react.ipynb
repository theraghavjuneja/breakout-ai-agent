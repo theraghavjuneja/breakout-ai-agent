{
 "cells": [
  {
   "cell_type": "code",
   "execution_count": 17,
   "metadata": {},
   "outputs": [
    {
     "data": {
      "text/plain": [
       "True"
      ]
     },
     "execution_count": 17,
     "metadata": {},
     "output_type": "execute_result"
    }
   ],
   "source": [
    "import os\n",
    "from dotenv import load_dotenv\n",
    "load_dotenv()"
   ]
  },
  {
   "cell_type": "code",
   "execution_count": 32,
   "metadata": {},
   "outputs": [],
   "source": [
    "import re"
   ]
  },
  {
   "cell_type": "code",
   "execution_count": 16,
   "metadata": {},
   "outputs": [],
   "source": [
    "from langchain_groq import ChatGroq\n",
    "llm=ChatGroq(model_name=\"llama3-groq-70b-8192-tool-use-preview\")"
   ]
  },
  {
   "cell_type": "code",
   "execution_count": 3,
   "metadata": {},
   "outputs": [],
   "source": [
    "message=[\n",
    "    {\"role\":\"system\",\"content\":\"You are a helpful assistant\"},\n",
    "    {\"role\":\"user\",\"content\":\"hi how are you?\"}\n",
    "]"
   ]
  },
  {
   "cell_type": "code",
   "execution_count": 4,
   "metadata": {},
   "outputs": [
    {
     "name": "stdout",
     "output_type": "stream",
     "text": [
      "Hi! I'm doing great, thanks for asking. How can I assist you today?\n"
     ]
    }
   ],
   "source": [
    "result=llm.invoke(message)\n",
    "print(result.content)"
   ]
  },
  {
   "cell_type": "code",
   "execution_count": 9,
   "metadata": {},
   "outputs": [],
   "source": [
    "class Chatbot():\n",
    "    def __init__(self):\n",
    "        print(\"Hi from Init\")\n",
    "    def __call__(self):\n",
    "        print(\"Hi from call\")\n",
    "    def execute(self):\n",
    "        print(\"Hi from Exuecte\")"
   ]
  },
  {
   "cell_type": "code",
   "execution_count": 59,
   "metadata": {},
   "outputs": [],
   "source": [
    "class Chatbot:\n",
    "    def __init__(self,system=\"\"):\n",
    "        self.system=system\n",
    "        # Create a list which will contain all the messages been asked\n",
    "        self.message=[]\n",
    "        # append system waali things if system kuh hai to\n",
    "        if self.system:\n",
    "            self.message.append({\"role\":\"system\",\"content\":system})\n",
    "    def __call__(self,message):\n",
    "        \n",
    "        # user na kuch message dia wo message append in message\n",
    "        self.message.append({\"role\":\"user\",\"content\":message})\n",
    "        # now us message ka output le aao\n",
    "        result=self.execute()\n",
    "        # jo llm ne output dia wo bhi append krdo\n",
    "        self.message.append({\"role\":\"assistant\",\"content\":result})\n",
    "        return result\n",
    "    def execute(self):\n",
    "        llm = ChatGroq(model_name=\"Gemma2-9b-It\")\n",
    "        result=llm.invoke(self.message)\n",
    "        return result.content\n",
    "        "
   ]
  },
  {
   "cell_type": "code",
   "execution_count": 60,
   "metadata": {},
   "outputs": [],
   "source": [
    "from typing import Any\n",
    "\n",
    "class ChatBot:\n",
    "    def __init__(self,system=\"\"):\n",
    "        self.system=system\n",
    "        self.message=[]\n",
    "        if self.system:\n",
    "            self.message.append({\"role\":\"system\",\"content\":system})\n",
    "    def __call__(self,message):\n",
    "        self.message.append({\"role\":\"user\",\"content\":message})\n",
    "        result=self.execute()\n",
    "        self.message.append({\"role\":\"assistant\",\"content\":result})\n",
    "        return result\n",
    "        \n",
    "    def execute(self):\n",
    "        llm = ChatGroq(model_name=\"Gemma2-9b-It\")\n",
    "        result = llm.invoke(self.message)\n",
    "        return result.content\n",
    "    "
   ]
  },
  {
   "cell_type": "code",
   "execution_count": 47,
   "metadata": {},
   "outputs": [],
   "source": [
    "bot=Chatbot(system=\"You are a helpful assistant\")"
   ]
  },
  {
   "cell_type": "code",
   "execution_count": 18,
   "metadata": {},
   "outputs": [
    {
     "data": {
      "text/plain": [
       "\"Hello! 👋  \\n\\nI'm here to help. What can I do for you today? 😊 \\n\\nI can answer questions, generate creative text, translate languages, and much more. Just let me know how I can be of service! 💫  \\n\""
      ]
     },
     "execution_count": 18,
     "metadata": {},
     "output_type": "execute_result"
    }
   ],
   "source": [
    "bot(\"Hi how are you?\")"
   ]
  },
  {
   "cell_type": "code",
   "execution_count": 21,
   "metadata": {},
   "outputs": [
    {
     "data": {
      "text/plain": [
       "[{'role': 'system', 'content': 'You are a helpful assistant'},\n",
       " {'role': 'user', 'content': 'message'},\n",
       " {'role': 'user', 'content': 'message'},\n",
       " {'role': 'assistant',\n",
       "  'content': \"Hello! 👋  \\n\\nI'm here to help. What can I do for you today? 😊 \\n\\nI can answer questions, generate creative text, translate languages, and much more. Just let me know how I can be of service! 💫  \\n\"}]"
      ]
     },
     "execution_count": 21,
     "metadata": {},
     "output_type": "execute_result"
    }
   ],
   "source": [
    "bot.message"
   ]
  },
  {
   "cell_type": "code",
   "execution_count": 48,
   "metadata": {},
   "outputs": [],
   "source": [
    "prompt = \"\"\"\n",
    "You run in a loop of Thought, Action, PAUSE, Observation.\n",
    "At the end of the loop your output an Answer.\n",
    "Use Thought to describe your thoughts about the question you have been asked.\n",
    "Use Action to run one of the actions available to you - then return PAUSE.\n",
    "Observation will be the result of running those actions.\n",
    "\n",
    "\n",
    "Your available actions are:\n",
    "a.) calculate:\n",
    "e.g. calculate: 4 * 7 / 3\n",
    "Runs a calculation and returns the number - uses Python so be sure to use floating point\n",
    "syntax if necessary\n",
    "\n",
    "b.) wikipedia:\n",
    "e.g. wikipedia: Django\n",
    "Returns a summary from searching Wikipedia\n",
    "\n",
    "c.) simon_blog_search:\n",
    "e.g. simon_blog_search: Python\n",
    "Search Simon's blog for that term\n",
    "\n",
    "Example session:\n",
    "Question: What is the capital of France?\n",
    "Thought: I should look up France on Wikipedia\n",
    "Action: wikipedia: France\n",
    "PAUSE\n",
    "\n",
    "You will be called again with this:\n",
    "Observation: France is a country. The capital is Paris.\n",
    "\n",
    "You then output:\n",
    "Answer: The capital of France is Paris\n",
    "\n",
    "Please Note: if you get basic conversation questions like \"hi\",\"hello\",\"how are you?\",\\n\n",
    "you have to answer \"hi\",\"hello\",\"i am good\".\n",
    "\"\"\".strip()"
   ]
  },
  {
   "cell_type": "code",
   "execution_count": 49,
   "metadata": {},
   "outputs": [],
   "source": [
    "action_re = re.compile('^Action: (\\w+): (.*)')"
   ]
  },
  {
   "cell_type": "code",
   "execution_count": 50,
   "metadata": {},
   "outputs": [],
   "source": [
    "def wikipedia(q):\n",
    "    response = httpx.get(\"https://en.wikipedia.org/w/api.php\", params={\n",
    "        \"action\": \"query\",\n",
    "        \"list\": \"search\",\n",
    "        \"srsearch\": q,\n",
    "        \"format\": \"json\"\n",
    "    })\n",
    "    return response.json()[\"query\"][\"search\"][0][\"snippet\"]"
   ]
  },
  {
   "cell_type": "code",
   "execution_count": 51,
   "metadata": {},
   "outputs": [],
   "source": [
    "def simon_blog_search(q):\n",
    "    response = httpx.get(\"https://datasette.simonwillison.net/simonwillisonblog.json\", params={\n",
    "        \"sql\": \"\"\"\n",
    "        select\n",
    "          blog_entry.title || ': ' || substr(html_strip_tags(blog_entry.body), 0, 1000) as text,\n",
    "          blog_entry.created\n",
    "        from\n",
    "          blog_entry join blog_entry_fts on blog_entry.rowid = blog_entry_fts.rowid\n",
    "        where\n",
    "          blog_entry_fts match escape_fts(:q)\n",
    "        order by\n",
    "          blog_entry_fts.rank\n",
    "        limit\n",
    "          1\n",
    "        \"\"\".strip(),\n",
    "        \"_shape\": \"array\",\n",
    "        \"q\": q,\n",
    "    })\n",
    "    return response.json()[0][\"text\"]"
   ]
  },
  {
   "cell_type": "code",
   "execution_count": 56,
   "metadata": {},
   "outputs": [],
   "source": [
    "def calculate(number):\n",
    "    return eval(number)"
   ]
  },
  {
   "cell_type": "code",
   "execution_count": 28,
   "metadata": {},
   "outputs": [
    {
     "data": {
      "text/plain": [
       "4"
      ]
     },
     "execution_count": 28,
     "metadata": {},
     "output_type": "execute_result"
    }
   ],
   "source": [
    "calculate(\"2+2\")"
   ]
  },
  {
   "cell_type": "code",
   "execution_count": 30,
   "metadata": {},
   "outputs": [
    {
     "data": {
      "text/plain": [
       "22"
      ]
     },
     "execution_count": 30,
     "metadata": {},
     "output_type": "execute_result"
    }
   ],
   "source": [
    "calculate(\"20+2\")"
   ]
  },
  {
   "cell_type": "code",
   "execution_count": 33,
   "metadata": {},
   "outputs": [],
   "source": [
    "# yhan number is a string of some calculation between 2 numbers\\\n",
    "action_re = re.compile('^Action: (\\w+): (.*)')"
   ]
  },
  {
   "cell_type": "markdown",
   "metadata": {},
   "source": [
    "This regular expression is designed to match a specific pattern of strings that start with \"Action:\" followed by a word, a colon, and then any remaining characters. Let's break it down:\n",
    "\n",
    "action_re = re.compile('^Action: (\\w+): (.*)')\n",
    "Components:\n",
    "^:\n",
    "\n",
    "Indicates the start of the string. The pattern must begin with the word \"Action:\".\n",
    "Action: :\n",
    "\n",
    "Matches the literal string \"Action: \" (including the colon and space).\n",
    "(\\w+):\n",
    "\n",
    "A capturing group that matches one or more word characters (letters, digits, or underscores).\n",
    "This group captures the word that comes after \"Action:\" and before the next colon.\n",
    ": :\n",
    "\n",
    "Matches a literal colon followed by a space.\n",
    "(.*):\n",
    "\n",
    "A capturing group that matches any sequence of characters (including none).\n",
    "This group captures everything after the colon and space.\n",
    "Behavior:\n",
    "The regular expression will extract two groups:\n",
    "The first word following \"Action:\".\n",
    "Everything after the second colon and space.\n",
    "Example:"
   ]
  },
  {
   "cell_type": "markdown",
   "metadata": {},
   "source": []
  },
  {
   "cell_type": "code",
   "execution_count": 34,
   "metadata": {},
   "outputs": [],
   "source": [
    "text1 = \"Action: Move: North\"\n",
    "text2 = \"Action: Jump: High\"\n",
    "text3 = \"Error: Not an Action\"\n"
   ]
  },
  {
   "cell_type": "markdown",
   "metadata": {},
   "source": [
    "This regular expression is designed to match a specific pattern of strings that start with \"Action:\" followed by a word, a colon, and then any remaining characters. Let's break it down:\n",
    "\n",
    "action_re = re.compile('^Action: (\\w+): (.*)')\n",
    "Components:\n",
    "^:\n",
    "\n",
    "Indicates the start of the string. The pattern must begin with the word \"Action:\".\n",
    "Action: :\n",
    "\n",
    "Matches the literal string \"Action: \" (including the colon and space).\n",
    "(\\w+):\n",
    "\n",
    "A capturing group that matches one or more word characters (letters, digits, or underscores).\n",
    "This group captures the word that comes after \"Action:\" and before the next colon.\n",
    ": :\n",
    "\n",
    "Matches a literal colon followed by a space.\n",
    "(.*):\n",
    "\n",
    "A capturing group that matches any sequence of characters (including none).\n",
    "This group captures everything after the colon and space.\n",
    "Behavior:\n",
    "The regular expression will extract two groups:\n",
    "The first word following \"Action:\".\n",
    "Everything after the second colon and space.\n",
    "Example:"
   ]
  },
  {
   "cell_type": "code",
   "execution_count": 38,
   "metadata": {},
   "outputs": [
    {
     "name": "stdout",
     "output_type": "stream",
     "text": [
      "First Group: Run\n",
      "Second Group: Execute the program\n"
     ]
    }
   ],
   "source": [
    "import re\n",
    "\n",
    "action_re = re.compile('^Action: (\\w+): (.*)')\n",
    "\n",
    "# Example string\n",
    "string = \"Action: Run: Execute the program\"\n",
    "\n",
    "# Match the string\n",
    "match = action_re.match(string)\n",
    "\n",
    "if match:\n",
    "    print(\"First Group:\", match.group(1))  # Output: \"Run\"\n",
    "    print(\"Second Group:\", match.group(2)) # Output: \"Execute the program\"\n"
   ]
  },
  {
   "cell_type": "code",
   "execution_count": 57,
   "metadata": {},
   "outputs": [],
   "source": [
    "known_actions = {\n",
    "    \"wikipedia\": wikipedia,\n",
    "    \"calculate\": calculate,\n",
    "    \"simon_blog_search\": simon_blog_search\n",
    "}"
   ]
  },
  {
   "cell_type": "code",
   "execution_count": 61,
   "metadata": {},
   "outputs": [],
   "source": [
    "def query(question, max_turns=5):\n",
    "    i = 0\n",
    "    # Here I am telling chatbow hot to behave like, (Like in this only He is told ki use though observation jaisa behave krna ha)\n",
    "    bot = ChatBot(prompt)\n",
    "    # Now I am storing my questuin (Like what is AI in next_prompt variable\n",
    "    next_prompt = question\n",
    "    # max turns signify itni baari tool call\n",
    "    while i < max_turns:\n",
    "        i += 1\n",
    "        # Pass the question to bot\n",
    "        result = bot(next_prompt)\n",
    "        # now jo result aaya use print kro\n",
    "        print(result)\n",
    "        \n",
    "        actions = [action_re.match(a) for a in result.split('\\n') if action_re.match(a)]\n",
    "        # now at tgis time llm ne btaya ki yeh action lena hai\n",
    "        # if that action is in dict to wo funtion call kro else raise an exceotin\n",
    "        if actions:\n",
    "            action, action_input = actions[0].groups()\n",
    "            if action not in known_actions:\n",
    "                raise Exception(f\"Unknown action: {action}: {action_input}\")\n",
    "            print(\" -- running {} {}\".format(action, action_input))\n",
    "            observation = known_actions[action](action_input)\n",
    "            print(\"Observation:\", observation)\n",
    "            next_prompt = f\"Observation: {observation}\"\n",
    "        else:\n",
    "            return result"
   ]
  },
  {
   "cell_type": "code",
   "execution_count": 63,
   "metadata": {},
   "outputs": [
    {
     "name": "stdout",
     "output_type": "stream",
     "text": [
      "Thought: I need to check Simon's blog for information about AI.\n",
      "\n",
      "Action: simon_blog_search: AI \n",
      "\n",
      "PAUSE \n",
      "\n",
      " -- running simon_blog_search AI \n",
      "Observation: It's OK to call it Artificial Intelligence: Update 9th January 2024: This post was clumsily written and failed to make the point I wanted it to make. I've published a follow-up, What I should have said about the term Artificial Intelligence which you should read instead.\n",
      "My original post follows.\n",
      "\n",
      "\n",
      "We need to be having high quality conversations about AI: what it can and can't do, its many risks and pitfalls and how to integrate it into society in the most beneficial ways possible.\n",
      "Any time I write anything that mentions AI it's inevitable that someone will object to the very usage of the term.\n",
      "Strawman: \"Don't call it AI! It's not actually intelligent - it's just spicy autocomplete.\"\n",
      "That strawman is right: it's not \"intelligent\" in the same way that humans are. And \"spicy autocomplete\" is actually a pretty good analogy for how a lot of these things work. But I still don't think this argument is a helpful contribution to the discussion.\n",
      "We need an agreed term for this class of technology, in order to have conversations\n",
      "Thought: Simon has written about AI and encourages us to use the term. \n",
      "\n",
      "Answer: Yes, Simon has written about AI. \n",
      "\n"
     ]
    },
    {
     "data": {
      "text/plain": [
       "'Thought: Simon has written about AI and encourages us to use the term. \\n\\nAnswer: Yes, Simon has written about AI. \\n'"
      ]
     },
     "execution_count": 63,
     "metadata": {},
     "output_type": "execute_result"
    }
   ],
   "source": [
    "query(\"Has Simon written about AI?\")"
   ]
  },
  {
   "cell_type": "code",
   "execution_count": 64,
   "metadata": {},
   "outputs": [
    {
     "name": "stdout",
     "output_type": "stream",
     "text": [
      "Thought: Let's calculate 15 * 25.\n",
      "\n",
      "Action: calculate: 15 * 25 \n",
      "PAUSE \n",
      "\n",
      " -- running calculate 15 * 25 \n",
      "Observation: 375\n",
      "Answer: 15 * 25 = 375  \n",
      "\n",
      "Answer: 15 * 25 = 375  \n",
      "\n"
     ]
    }
   ],
   "source": [
    "print(query(\"Fifteen * twenty five\"))"
   ]
  },
  {
   "cell_type": "code",
   "execution_count": 41,
   "metadata": {},
   "outputs": [
    {
     "name": "stdout",
     "output_type": "stream",
     "text": [
      "Okay, I understand. I will follow the Thought-Action-PAUSE-Observation loop and provide an Answer based on the information gathered. \n",
      "\n",
      "Let's begin!  \n",
      "\n"
     ]
    },
    {
     "data": {
      "text/plain": [
       "\"Okay, I understand. I will follow the Thought-Action-PAUSE-Observation loop and provide an Answer based on the information gathered. \\n\\nLet's begin!  \\n\""
      ]
     },
     "execution_count": 41,
     "metadata": {},
     "output_type": "execute_result"
    }
   ],
   "source": [
    "\n",
    "query(\"hi\")"
   ]
  },
  {
   "cell_type": "code",
   "execution_count": 42,
   "metadata": {},
   "outputs": [
    {
     "name": "stdout",
     "output_type": "stream",
     "text": [
      "Okay, I understand. I'm ready for the question.  \n",
      "\n"
     ]
    },
    {
     "data": {
      "text/plain": [
       "\"Okay, I understand. I'm ready for the question.  \\n\""
      ]
     },
     "execution_count": 42,
     "metadata": {},
     "output_type": "execute_result"
    }
   ],
   "source": [
    "query(\"hello\")"
   ]
  },
  {
   "cell_type": "code",
   "execution_count": 43,
   "metadata": {},
   "outputs": [
    {
     "name": "stdout",
     "output_type": "stream",
     "text": [
      "Okay, I understand. I will follow the Thought-Action-PAUSE-Observation loop and provide answers based on the information I gather.  \n",
      "\n",
      "Ask me your question!  \n",
      "\n",
      "\n"
     ]
    },
    {
     "data": {
      "text/plain": [
       "'Okay, I understand. I will follow the Thought-Action-PAUSE-Observation loop and provide answers based on the information I gather.  \\n\\nAsk me your question!  \\n\\n'"
      ]
     },
     "execution_count": 43,
     "metadata": {},
     "output_type": "execute_result"
    }
   ],
   "source": [
    "\n",
    "query(\"what you doing?\")"
   ]
  },
  {
   "cell_type": "code",
   "execution_count": 44,
   "metadata": {},
   "outputs": [
    {
     "name": "stdout",
     "output_type": "stream",
     "text": [
      "Okay, I understand. I will follow the Thought, Action, PAUSE, Observation loop and provide an Answer based on the information I gather.  \n",
      "\n",
      "Ask me your question!  \n",
      "\n"
     ]
    },
    {
     "data": {
      "text/plain": [
       "'Okay, I understand. I will follow the Thought, Action, PAUSE, Observation loop and provide an Answer based on the information I gather.  \\n\\nAsk me your question!  \\n'"
      ]
     },
     "execution_count": 44,
     "metadata": {},
     "output_type": "execute_result"
    }
   ],
   "source": [
    "query(\"Has Simon written about AI?\")"
   ]
  }
 ],
 "metadata": {
  "kernelspec": {
   "display_name": "breakoutenvironmen",
   "language": "python",
   "name": "python3"
  },
  "language_info": {
   "codemirror_mode": {
    "name": "ipython",
    "version": 3
   },
   "file_extension": ".py",
   "mimetype": "text/x-python",
   "name": "python",
   "nbconvert_exporter": "python",
   "pygments_lexer": "ipython3",
   "version": "3.11.5"
  }
 },
 "nbformat": 4,
 "nbformat_minor": 2
}
