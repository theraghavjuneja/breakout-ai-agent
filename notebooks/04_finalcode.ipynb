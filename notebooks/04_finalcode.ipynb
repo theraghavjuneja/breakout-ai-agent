{
 "cells": [
  {
   "cell_type": "markdown",
   "metadata": {},
   "source": [
    "#### Would be using LLM ChatGroq -> Llama 3.1 71B"
   ]
  },
  {
   "cell_type": "code",
   "execution_count": 1,
   "metadata": {},
   "outputs": [],
   "source": [
    "from langchain_groq import ChatGroq\n"
   ]
  },
  {
   "cell_type": "code",
   "execution_count": 2,
   "metadata": {},
   "outputs": [
    {
     "data": {
      "text/plain": [
       "True"
      ]
     },
     "execution_count": 2,
     "metadata": {},
     "output_type": "execute_result"
    }
   ],
   "source": [
    "from dotenv import load_dotenv\n",
    "load_dotenv()"
   ]
  },
  {
   "cell_type": "code",
   "execution_count": 3,
   "metadata": {},
   "outputs": [],
   "source": [
    "import os\n",
    "os.environ['SERPER_API_KEY']='b5ada68eefdb0ba04d6af76b95e1e7e677c4f8c9'"
   ]
  },
  {
   "cell_type": "code",
   "execution_count": null,
   "metadata": {},
   "outputs": [],
   "source": []
  },
  {
   "cell_type": "code",
   "execution_count": 4,
   "metadata": {},
   "outputs": [],
   "source": [
    "llm=ChatGroq(model_name=\"llama3-groq-70b-8192-tool-use-preview\",temperature=0.2)"
   ]
  },
  {
   "cell_type": "code",
   "execution_count": 5,
   "metadata": {},
   "outputs": [],
   "source": [
    "# Trying Out the First API on different questions now\n",
    "# gmail , founder, headquarter location\n",
    "from langchain.agents import initialize_agent"
   ]
  },
  {
   "cell_type": "code",
   "execution_count": 6,
   "metadata": {},
   "outputs": [],
   "source": [
    "from langchain_community.utilities import GoogleSerperAPIWrapper\n",
    "from langchain.agents import AgentType\n",
    "from langchain.agents import Tool\n",
    "search=GoogleSerperAPIWrapper()"
   ]
  },
  {
   "cell_type": "code",
   "execution_count": 7,
   "metadata": {},
   "outputs": [
    {
     "name": "stdout",
     "output_type": "stream",
     "text": [
      "Search Results: Newport (1881–1914), Forest Hills (1915–1920, 1924–1977), and Philadelphia (1921–1923) held the event before it settled in 1978. Discover the rich history of the US Open Tennis Championships with our year-by-year archive of tournament highlights and memorable moments. Since 1978, the tournament has been played on acrylic hardcourts at the USTA Billie Jean King National Tennis Center in Flushing Meadows–Corona Park, Queens, ... Missing: reigning | Show results with:reigning. List of Winners of the USA Open - Men's Singles ; 2022, Carlos Alcaraz (Spain), Casper Ruud (Norway) ; 2021, Daniil Medvedev (Russia), Novak Đoković (Serbia) ... Missing: reigning | Show results with:reigning. Find out every men's tennis Grand Slam winner throughout history, here at ESPN.com. US Men's Championship · 1913-08-26 US National Championship Men's Tennis, Newport, RI: Defending champion Maurice McLoughlin beats R. · 1914-09-01 US National ... Year, 2024. Champion, Bryson DeChambeau. Score, 274 (-6). Site, Pinehurst Resort & C.C.. City, Village of Pinehurst. State, N.C.. Entries, 10,052. Missing: reigning | Show results with:reigning. The US Open consists of championships in five main categories: men's singles and doubles, women's singles and doubles, and mixed doubles. Missing: reigning | Show results with:reigning. Spain's captain, David Ferrer, the 2013 French Open runner-up to Nadal, has not yet told the world how he will employ the star in Malaga. Could ... First look at Starting XIs, goal replays, real-time updates and more. You've never seen soccer like this. Only in the Official U.S. Soccer App. Learn more.\n"
     ]
    }
   ],
   "source": [
    "# Modify the search to log the results\n",
    "search_results = search.run(\"What is the hometown of the reigning men's U.S. Open champion?\")\n",
    "print(\"Search Results:\", search_results)\n"
   ]
  },
  {
   "cell_type": "code",
   "execution_count": 8,
   "metadata": {},
   "outputs": [
    {
     "name": "stderr",
     "output_type": "stream",
     "text": [
      "C:\\Users\\Charanjeet Juneja\\AppData\\Local\\Temp\\ipykernel_1068\\735108628.py:14: LangChainDeprecationWarning: The function `initialize_agent` was deprecated in LangChain 0.1.0 and will be removed in 1.0. Use :meth:`~Use new agent constructor methods like create_react_agent, create_json_agent, create_structured_chat_agent, etc.` instead.\n",
      "  self_ask_with_search = initialize_agent(\n",
      "C:\\Users\\Charanjeet Juneja\\AppData\\Local\\Temp\\ipykernel_1068\\735108628.py:20: LangChainDeprecationWarning: The method `Chain.run` was deprecated in langchain 0.1.0 and will be removed in 1.0. Use :meth:`~invoke` instead.\n",
      "  self_ask_with_search.run(query)\n"
     ]
    },
    {
     "name": "stdout",
     "output_type": "stream",
     "text": [
      "\n",
      "\n",
      "\u001b[1m> Entering new AgentExecutor chain...\u001b[0m\n",
      "\u001b[32;1m\u001b[1;3mCould not parse output: Yes, follow-up questions are needed to determine the hometown of the reigning men's U.S. Open champion in 2024.\n",
      "For troubleshooting, visit: https://python.langchain.com/docs/troubleshooting/errors/OUTPUT_PARSING_FAILURE\u001b[0m\n",
      "Intermediate answer: Invalid or incomplete response\n",
      "\u001b[32;1m\u001b[1;3mCould not parse output: The final answer is: Invalid or incomplete response\n",
      "For troubleshooting, visit: https://python.langchain.com/docs/troubleshooting/errors/OUTPUT_PARSING_FAILURE\u001b[0m\n",
      "Intermediate answer: Invalid or incomplete response\n",
      "\u001b[32;1m\u001b[1;3mCould not parse output: 1. Muhammad Ali lived longer than Alan Turing. Muhammad Ali was 74 years old when he died, while Alan Turing was 41 years old when he died.\n",
      "\n",
      "2. Craig Newmark, the founder of Craigslist, was born on December 6, 1952.\n",
      "\n",
      "3. The maternal grandfather of George Washington was Joseph Ball.\n",
      "\n",
      "4. No, the directors of Jaws and Casino Royale are not from the same country. Steven Spielberg, the director of Jaws, is from the United States, while Martin Campbell, the director of Casino Royale, is from New Zealand.\n",
      "\n",
      "5. The hometown of the reigning men's U.S. Open champion in 2024 could not be determined due to an output parsing failure.\n",
      "For troubleshooting, visit: https://python.langchain.com/docs/troubleshooting/errors/OUTPUT_PARSING_FAILURE\u001b[0m\n",
      "Intermediate answer: Invalid or incomplete response\n",
      "\u001b[32;1m\u001b[1;3mCould not parse output: 1. Muhammad Ali lived longer than Alan Turing. Muhammad Ali was 74 years old when he died, while Alan Turing was 41 years old when he died.\n",
      "\n",
      "2. Craig Newmark, the founder of Craigslist, was born on December 6, 1952.\n",
      "\n",
      "3. The maternal grandfather of George Washington was Joseph Ball.\n",
      "\n",
      "4. No, the directors of Jaws and Casino Royale are not from the same country. Steven Spielberg, the director of Jaws, is from the United States, while Martin Campbell, the director of Casino Royale, is from New Zealand.\n",
      "\n",
      "5. The hometown of the reigning men's U.S. Open champion in 2024 could not be determined due to an output parsing failure.\n",
      "For troubleshooting, visit: https://python.langchain.com/docs/troubleshooting/errors/OUTPUT_PARSING_FAILURE\u001b[0m\n",
      "Intermediate answer: Invalid or incomplete response\n",
      "\u001b[32;1m\u001b[1;3mCould not parse output: 1. Muhammad Ali lived longer than Alan Turing. Muhammad Ali was 74 years old when he died, while Alan Turing was 41 years old when he died.\n",
      "\n",
      "2. Craig Newmark, the founder of Craigslist, was born on December 6, 1952.\n",
      "\n",
      "3. The maternal grandfather of George Washington was Joseph Ball.\n",
      "\n",
      "4. No, the directors of Jaws and Casino Royale are not from the same country. Steven Spielberg, the director of Jaws, is from the United States, while Martin Campbell, the director of Casino Royale, is from New Zealand.\n",
      "\n",
      "5. The hometown of the reigning men's U.S. Open champion in 2024 could not be determined due to an output parsing failure.\n",
      "For troubleshooting, visit: https://python.langchain.com/docs/troubleshooting/errors/OUTPUT_PARSING_FAILURE\u001b[0m\n",
      "Intermediate answer: Invalid or incomplete response\n",
      "\u001b[32;1m\u001b[1;3mCould not parse output: 1. Muhammad Ali lived longer than Alan Turing. Muhammad Ali was 74 years old when he died, while Alan Turing was 41 years old when he died.\n",
      "\n",
      "2. Craig Newmark, the founder of Craigslist, was born on December 6, 1952.\n",
      "\n",
      "3. The maternal grandfather of George Washington was Joseph Ball.\n",
      "\n",
      "4. No, the directors of Jaws and Casino Royale are not from the same country. Steven Spielberg, the director of Jaws, is from the United States, while Martin Campbell, the director of Casino Royale, is from New Zealand.\n",
      "\n",
      "5. The hometown of the reigning men's U.S. Open champion in 2024 could not be determined due to an output parsing failure. For troubleshooting, visit: https://python.langchain.com/docs/troubleshooting/errors/OUTPUT_PARSING_FAILURE\n",
      "For troubleshooting, visit: https://python.langchain.com/docs/troubleshooting/errors/OUTPUT_PARSING_FAILURE\u001b[0m\n",
      "Intermediate answer: Invalid or incomplete response\n",
      "\u001b[32;1m\u001b[1;3mCould not parse output: 1. Muhammad Ali lived longer than Alan Turing. Muhammad Ali was 74 years old when he died, while Alan Turing was 41 years old when he died.\n",
      "\n",
      "2. Craig Newmark, the founder of Craigslist, was born on December 6, 1952.\n",
      "\n",
      "3. The maternal grandfather of George Washington was Joseph Ball.\n",
      "\n",
      "4. No, the directors of Jaws and Casino Royale are not from the same country. Steven Spielberg, the director of Jaws, is from the United States, while Martin Campbell, the director of Casino Royale, is from New Zealand.\n",
      "\n",
      "5. The hometown of the reigning men's U.S. Open champion in 2024 could not be determined due to an output parsing failure. For troubleshooting, visit: https://python.langchain.com/docs/troubleshooting/errors/OUTPUT_PARSING_FAILURE\n",
      "For troubleshooting, visit: https://python.langchain.com/docs/troubleshooting/errors/OUTPUT_PARSING_FAILURE\u001b[0m\n",
      "Intermediate answer: Invalid or incomplete response\n",
      "\u001b[32;1m\u001b[1;3mCould not parse output: 1. Muhammad Ali lived longer than Alan Turing. Muhammad Ali was 74 years old when he died, while Alan Turing was 41 years old when he died.\n",
      "\n",
      "2. Craig Newmark, the founder of Craigslist, was born on December 6, 1952.\n",
      "\n",
      "3. The maternal grandfather of George Washington was Joseph Ball.\n",
      "\n",
      "4. No, the directors of Jaws and Casino Royale are not from the same country. Steven Spielberg, the director of Jaws, is from the United States, while Martin Campbell, the director of Casino Royale, is from New Zealand.\n",
      "\n",
      "5. The hometown of the reigning men's U.S. Open champion in 2024 could not be determined due to an output parsing failure. For troubleshooting, visit: https://python.langchain.com/docs/troubleshooting/errors/OUTPUT_PARSING_FAILURE\n",
      "For troubleshooting, visit: https://python.langchain.com/docs/troubleshooting/errors/OUTPUT_PARSING_FAILURE\u001b[0m\n",
      "Intermediate answer: Invalid or incomplete response\n",
      "\u001b[32;1m\u001b[1;3mCould not parse output: 1. Muhammad Ali lived longer than Alan Turing. Muhammad Ali was 74 years old when he died, while Alan Turing was 41 years old when he died.\n",
      "\n",
      "2. Craig Newmark, the founder of Craigslist, was born on December 6, 1952.\n",
      "\n",
      "3. The maternal grandfather of George Washington was Joseph Ball.\n",
      "\n",
      "4. No, the directors of Jaws and Casino Royale are not from the same country. Steven Spielberg, the director of Jaws, is from the United States, while Martin Campbell, the director of Casino Royale, is from New Zealand.\n",
      "\n",
      "5. The hometown of the reigning men's U.S. Open champion in 2024 could not be determined due to an output parsing failure. For troubleshooting, visit: https://python.langchain.com/docs/troubleshooting/errors/OUTPUT_PARSING_FAILURE\n",
      "For troubleshooting, visit: https://python.langchain.com/docs/troubleshooting/errors/OUTPUT_PARSING_FAILURE\u001b[0m\n",
      "Intermediate answer: Invalid or incomplete response\n",
      "\u001b[32;1m\u001b[1;3mCould not parse output: 1. Muhammad Ali lived longer than Alan Turing. Muhammad Ali was 74 years old when he died, while Alan Turing was 41 years old when he died.\n",
      "\n",
      "2. Craig Newmark, the founder of Craigslist, was born on December 6, 1952.\n",
      "\n",
      "3. The maternal grandfather of George Washington was Joseph Ball.\n",
      "\n",
      "4. No, the directors of Jaws and Casino Royale are not from the same country. Steven Spielberg, the director of Jaws, is from the United States, while Martin Campbell, the director of Casino Royale, is from New Zealand.\n",
      "\n",
      "5. The hometown of the reigning men's U.S. Open champion in 2024 could not be determined due to an output parsing failure. For troubleshooting, visit: https://python.langchain.com/docs/troubleshooting/errors/OUTPUT_PARSING_FAILURE\n",
      "For troubleshooting, visit: https://python.langchain.com/docs/troubleshooting/errors/OUTPUT_PARSING_FAILURE\u001b[0m\n",
      "Intermediate answer: Invalid or incomplete response\n",
      "\u001b[32;1m\u001b[1;3mCould not parse output: 1. Muhammad Ali lived longer than Alan Turing. Muhammad Ali was 74 years old when he died, while Alan Turing was 41 years old when he died.\n",
      "\n",
      "2. Craig Newmark, the founder of Craigslist, was born on December 6, 1952.\n",
      "\n",
      "3. The maternal grandfather of George Washington was Joseph Ball.\n",
      "\n",
      "4. No, the directors of Jaws and Casino Royale are not from the same country. Steven Spielberg, the director of Jaws, is from the United States, while Martin Campbell, the director of Casino Royale, is from New Zealand.\n",
      "\n",
      "5. The hometown of the reigning men's U.S. Open champion in 2024 could not be determined due to an output parsing failure. For troubleshooting, visit: https://python.langchain.com/docs/troubleshooting/errors/OUTPUT_PARSING_FAILURE\n",
      "For troubleshooting, visit: https://python.langchain.com/docs/troubleshooting/errors/OUTPUT_PARSING_FAILURE\u001b[0m\n",
      "Intermediate answer: Invalid or incomplete response\n",
      "\u001b[32;1m\u001b[1;3mCould not parse output: 1. Muhammad Ali lived longer than Alan Turing. Muhammad Ali was 74 years old when he died, while Alan Turing was 41 years old when he died.\n",
      "\n",
      "2. Craig Newmark, the founder of Craigslist, was born on December 6, 1952.\n",
      "\n",
      "3. The maternal grandfather of George Washington was Joseph Ball.\n",
      "\n",
      "4. No, the directors of Jaws and Casino Royale are not from the same country. Steven Spielberg, the director of Jaws, is from the United States, while Martin Campbell, the director of Casino Royale, is from New Zealand.\n",
      "\n",
      "5. The hometown of the reigning men's U.S. Open champion in 2024 could not be determined due to an output parsing failure. For troubleshooting, visit: https://python.langchain.com/docs/troubleshooting/errors/OUTPUT_PARSING_FAILURE\n",
      "For troubleshooting, visit: https://python.langchain.com/docs/troubleshooting/errors/OUTPUT_PARSING_FAILURE\u001b[0m\n",
      "Intermediate answer: Invalid or incomplete response\n",
      "\u001b[32;1m\u001b[1;3mCould not parse output: 1. Muhammad Ali lived longer than Alan Turing. Muhammad Ali was 74 years old when he died, while Alan Turing was 41 years old when he died.\n",
      "\n",
      "2. Craig Newmark, the founder of Craigslist, was born on December 6, 1952.\n",
      "\n",
      "3. The maternal grandfather of George Washington was Joseph Ball.\n",
      "\n",
      "4. No, the directors of Jaws and Casino Royale are not from the same country. Steven Spielberg, the director of Jaws, is from the United States, while Martin Campbell, the director of Casino Royale, is from New Zealand.\n",
      "\n",
      "5. The hometown of the reigning men's U.S. Open champion in 2024 could not be determined due to an output parsing failure. For troubleshooting, visit: https://python.langchain.com/docs/troubleshooting/errors/OUTPUT_PARSING_FAILURE\n",
      "For troubleshooting, visit: https://python.langchain.com/docs/troubleshooting/errors/OUTPUT_PARSING_FAILURE\u001b[0m\n",
      "Intermediate answer: Invalid or incomplete response\n",
      "\u001b[32;1m\u001b[1;3mCould not parse output: 1. Muhammad Ali lived longer than Alan Turing. Muhammad Ali was 74 years old when he died, while Alan Turing was 41 years old when he died.\n",
      "\n",
      "2. Craig Newmark, the founder of Craigslist, was born on December 6, 1952.\n",
      "\n",
      "3. The maternal grandfather of George Washington was Joseph Ball.\n",
      "\n",
      "4. No, the directors of Jaws and Casino Royale are not from the same country. Steven Spielberg, the director of Jaws, is from the United States, while Martin Campbell, the director of Casino Royale, is from New Zealand.\n",
      "\n",
      "5. The hometown of the reigning men's U.S. Open champion in 2024 could not be determined due to an output parsing failure. For troubleshooting, visit: https://python.langchain.com/docs/troubleshooting/errors/OUTPUT_PARSING_FAILURE\n",
      "For troubleshooting, visit: https://python.langchain.com/docs/troubleshooting/errors/OUTPUT_PARSING_FAILURE\u001b[0m\n",
      "Intermediate answer: Invalid or incomplete response\n",
      "\u001b[32;1m\u001b[1;3mCould not parse output: 1. Muhammad Ali lived longer than Alan Turing. Muhammad Ali was 74 years old when he died, while Alan Turing was 41 years old when he died.\n",
      "\n",
      "2. Craig Newmark, the founder of Craigslist, was born on December 6, 1952.\n",
      "\n",
      "3. The maternal grandfather of George Washington was Joseph Ball.\n",
      "\n",
      "4. No, the directors of Jaws and Casino Royale are not from the same country. Steven Spielberg, the director of Jaws, is from the United States, while Martin Campbell, the director of Casino Royale, is from New Zealand.\n",
      "\n",
      "5. The hometown of the reigning men's U.S. Open champion in 2024 could not be determined due to an output parsing failure. For troubleshooting, visit: https://python.langchain.com/docs/troubleshooting/errors/OUTPUT_PARSING_FAILURE\n",
      "For troubleshooting, visit: https://python.langchain.com/docs/troubleshooting/errors/OUTPUT_PARSING_FAILURE\u001b[0m\n",
      "Intermediate answer: Invalid or incomplete response\n",
      "\u001b[32;1m\u001b[1;3m\u001b[0m\n",
      "\n",
      "\u001b[1m> Finished chain.\u001b[0m\n"
     ]
    },
    {
     "data": {
      "text/plain": [
       "'Agent stopped due to iteration limit or time limit.'"
      ]
     },
     "execution_count": 8,
     "metadata": {},
     "output_type": "execute_result"
    }
   ],
   "source": [
    "from langchain.agents import initialize_agent, Tool, AgentType\n",
    "\n",
    "search = GoogleSerperAPIWrapper()\n",
    "\n",
    "tools = [\n",
    "    Tool(\n",
    "        name=\"Intermediate Answer\",\n",
    "        func=search.run,\n",
    "        description=\"Useful for when you need to ask with search\"\n",
    "    )\n",
    "]\n",
    "\n",
    "# Initialize the agent\n",
    "self_ask_with_search = initialize_agent(\n",
    "    tools, llm, agent=AgentType.SELF_ASK_WITH_SEARCH, verbose=True, handle_parsing_errors=True\n",
    ")\n",
    "\n",
    "# Try running the agent with a refined query\n",
    "query = \"What is the hometown of the reigning men's U.S. Open champion in 2024?\"\n",
    "self_ask_with_search.run(query)\n"
   ]
  }
 ],
 "metadata": {
  "kernelspec": {
   "display_name": "breakoutenvironmen",
   "language": "python",
   "name": "python3"
  },
  "language_info": {
   "codemirror_mode": {
    "name": "ipython",
    "version": 3
   },
   "file_extension": ".py",
   "mimetype": "text/x-python",
   "name": "python",
   "nbconvert_exporter": "python",
   "pygments_lexer": "ipython3",
   "version": "3.11.5"
  }
 },
 "nbformat": 4,
 "nbformat_minor": 2
}
