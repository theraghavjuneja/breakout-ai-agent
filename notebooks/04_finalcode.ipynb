{
 "cells": [
  {
   "cell_type": "markdown",
   "metadata": {},
   "source": [
    "#### Would be using LLM ChatGroq -> Llama 3.1 71B"
   ]
  },
  {
   "cell_type": "code",
   "execution_count": 9,
   "metadata": {},
   "outputs": [],
   "source": [
    "# first api serp api\n",
    "from langchain_community.utilities import SerpAPIWrapper\n",
    "params = {\n",
    "    \"engine\": \"google\",\n",
    "    \"gl\": \"in\",\n",
    "    \"google_domain\":\"google.co.in\",\n",
    "    \"hl\": \"en\",\n",
    "}"
   ]
  },
  {
   "cell_type": "code",
   "execution_count": 12,
   "metadata": {},
   "outputs": [],
   "source": [
    "llm=ChatGroq(model_name=\"llama-3.1-70b-versatile\",temperature=0.2)"
   ]
  },
  {
   "cell_type": "code",
   "execution_count": 10,
   "metadata": {},
   "outputs": [],
   "source": [
    "search=SerpAPIWrapper(params=params)\n",
    "response=search.run(\"What is the CEO of Google?\")"
   ]
  },
  {
   "cell_type": "code",
   "execution_count": 11,
   "metadata": {},
   "outputs": [
    {
     "name": "stdout",
     "output_type": "stream",
     "text": [
      "Sundar Pichai\n"
     ]
    }
   ],
   "source": [
    "print(response)"
   ]
  },
  {
   "cell_type": "code",
   "execution_count": 13,
   "metadata": {},
   "outputs": [
    {
     "name": "stderr",
     "output_type": "stream",
     "text": [
      "C:\\Users\\Charanjeet Juneja\\AppData\\Local\\Temp\\ipykernel_10592\\3555775803.py:5: LangChainDeprecationWarning: The function `initialize_agent` was deprecated in LangChain 0.1.0 and will be removed in 1.0. Use :meth:`~Use new agent constructor methods like create_react_agent, create_json_agent, create_structured_chat_agent, etc.` instead.\n",
      "  agent = initialize_agent(tools, llm, agent_type=\"zero-shot-react-description\", verbose=True,)\n",
      "C:\\Users\\Charanjeet Juneja\\AppData\\Local\\Temp\\ipykernel_10592\\3555775803.py:7: LangChainDeprecationWarning: The method `Chain.run` was deprecated in langchain 0.1.0 and will be removed in 1.0. Use :meth:`~invoke` instead.\n",
      "  response = agent.run(\"How do I contact Zomato?\")\n"
     ]
    },
    {
     "name": "stdout",
     "output_type": "stream",
     "text": [
      "\n",
      "\n",
      "\u001b[1m> Entering new AgentExecutor chain...\u001b[0m\n",
      "\u001b[32;1m\u001b[1;3mThought: To contact Zomato, I need to find their official contact information. I can start by searching online for \"Zomato contact\" to see if I can find any relevant information.\n",
      "\n",
      "Action: serpapi\n",
      "Action Input: \"Zomato contact\"\n",
      "\u001b[0m\n",
      "Observation: \u001b[36;1m\u001b[1;3m[\"Issue with your live order? Click on the 'Support' or 'Online ordering help' section in your app to connect to our customer support team.\", 'This establishment is functional from 08:30 - 19:30. Please scroll to the top for the address and contact details of Zomato.com (Head Office) at Gurgaon Rd, ...', 'View all restaurants serving Chat in Delhi NCR. Chat in Delhi NCR - View Menus, Photos, Reviews and Information for restaurants serving Chat in Delhi NCR on ...', 'View all restaurants serving Chat in Bengaluru. Chat in Bengaluru - View Menus, Photos, Reviews and Information for restaurants serving Chat in Bengaluru on ...', 'The best phone number to call Zomato is 912262327777. 78% of consumers used this number to address their issues and concerns.', 'Zomato does not have any customer care phone line and we never ask for any such information. Beware of fake numbers! · Some tips to protect yourself from online ...', 'Zomato Limited. Ground Floor, 12A. 94 Meghdoot, Nehru Place. New Delhi - 110019. Phone. +91 124 426 8565, +91 11 40592373. Email. companysecretary@zomato.com.', 'View all restaurants serving Chat in Hyderabad. Chat in Hyderabad - View Menus, Photos, Reviews and Information for restaurants serving Chat in Hyderabad on ...']\u001b[0m\n",
      "Thought:\u001b[32;1m\u001b[1;3mThought: I was able to find some contact information for Zomato, including a phone number and an email address. However, I also found a warning from Zomato stating that they do not have a customer care phone line and that I should beware of fake numbers. To confirm the accuracy of the contact information, I will search again for \"Zomato official contact\" to see if I can find any more reliable sources.\n",
      "\n",
      "Action: serpapi\n",
      "Action Input: \"Zomato official contact\"\n",
      "\u001b[0m\n",
      "Observation: \u001b[36;1m\u001b[1;3m[\"Issue with your live order? Click on the 'Support' or 'Online ordering help' section in your app to connect to our customer support team.\", 'Zomato. Customer. Care. Toll-Free. Number (9O3I 5O 8OII) All India payment related and refund related issues solved. 1 month ...', 'Use this page to report a serious incident or accident only. For order related queries, please use our chat support.', 'The best phone number to call Zomato is 912262327777. 78% of consumers used this number to address their issues and concerns.', 'Updated on Saturday, 12 November 2022 - 11:32am. Company Logo. Organization: Zomato. All India Number(s):. 80396 54500 (Advertisement).', 'Restaurant Partner Login | Partner with Zomato | Join Our Network of Restaurants - Zomato for Business | Contact Us +91 97-38-38-38-38.', \"Reach out to us by emailing at companysecretary@zomato.com, and we'll get back to you. Contact Us. Disclosures under Regulation 46 of the LODR.\", 'Contact Email info@zomato.com ; Phone Number +91 011 30806376.', 'Zomato does not have any customer care number and we never ask for any banking details like CVV, UPI, or PIN. Beware of fake numbers!', 'Please use this form only for reporting potential frauds. For order or other general queries contact us here. Zomato logo.']\u001b[0m\n",
      "Thought:\u001b[32;1m\u001b[1;3mThought: I was able to find some contact information for Zomato, including a phone number and an email address. However, I also found a warning from Zomato stating that they do not have a customer care phone line and that I should beware of fake numbers. It seems that the best way to contact Zomato is through their app or by emailing them at companysecretary@zomato.com or info@zomato.com.\n",
      "\n",
      "Final Answer: You can contact Zomato through their app, by emailing them at companysecretary@zomato.com or info@zomato.com, or by calling +91 124 426 8565 or +91 11 40592373. However, be aware that Zomato does not have a customer care phone line and beware of fake numbers.\u001b[0m\n",
      "\n",
      "\u001b[1m> Finished chain.\u001b[0m\n",
      "You can contact Zomato through their app, by emailing them at companysecretary@zomato.com or info@zomato.com, or by calling +91 124 426 8565 or +91 11 40592373. However, be aware that Zomato does not have a customer care phone line and beware of fake numbers.\n"
     ]
    }
   ],
   "source": [
    "# Direct Response\n",
    "from langchain.agents import load_tools,Tool,initialize_agent\n",
    "# customizedefault tool\n",
    "tools = [Tool(name=\"serpapi\", func=search.run, description=\"Search for information online\")]\n",
    "agent = initialize_agent(tools, llm, agent_type=\"zero-shot-react-description\", verbose=True,)\n",
    "\n",
    "response = agent.run(\"How do I contact Zomato?\")\n",
    "print(response)\n",
    "\n"
   ]
  }
 ],
 "metadata": {
  "kernelspec": {
   "display_name": "breakoutenvironmen",
   "language": "python",
   "name": "python3"
  },
  "language_info": {
   "codemirror_mode": {
    "name": "ipython",
    "version": 3
   },
   "file_extension": ".py",
   "mimetype": "text/x-python",
   "name": "python",
   "nbconvert_exporter": "python",
   "pygments_lexer": "ipython3",
   "version": "3.11.5"
  }
 },
 "nbformat": 4,
 "nbformat_minor": 2
}
