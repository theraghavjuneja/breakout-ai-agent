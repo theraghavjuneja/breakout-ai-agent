{
 "cells": [
  {
   "cell_type": "code",
   "execution_count": 1,
   "metadata": {},
   "outputs": [],
   "source": [
    "import os"
   ]
  },
  {
   "cell_type": "code",
   "execution_count": 4,
   "metadata": {},
   "outputs": [
    {
     "data": {
      "text/plain": [
       "'d:\\\\breakout-ai\\\\data'"
      ]
     },
     "execution_count": 4,
     "metadata": {},
     "output_type": "execute_result"
    }
   ],
   "source": [
    "os.getcwd()"
   ]
  },
  {
   "cell_type": "code",
   "execution_count": 5,
   "metadata": {},
   "outputs": [],
   "source": [
    "import pandas as pd"
   ]
  },
  {
   "cell_type": "code",
   "execution_count": 7,
   "metadata": {},
   "outputs": [
    {
     "name": "stdout",
     "output_type": "stream",
     "text": [
      "CSV file has been created and saved at: input_data\\quickcommerce.csv\n"
     ]
    }
   ],
   "source": [
    "data = {\n",
    "    \"Entities\": [\"Swiggy\", \"Zomato\", \"Zepto\", \"Blink It\", \"Big Basket\",\n",
    "                 \"Swiggy Instamart\", \"Dunzo\", \"Flipkart Minutes\", \"Amazon Fresh\"]\n",
    "}\n",
    "\n",
    "# data frame\n",
    "df = pd.DataFrame(data)\n",
    "folder_name=\"input_data\"\n",
    "file_name=\"quickcommerce.csv\"\n",
    "os.makedirs(folder_name,exist_ok=True)\n",
    "file_path = os.path.join(folder_name, file_name)\n",
    "df.to_csv(file_path, index=False)\n",
    "\n",
    "print(f\"CSV file has been created and saved at: {file_path}\")\n"
   ]
  }
 ],
 "metadata": {
  "kernelspec": {
   "display_name": "Python 3",
   "language": "python",
   "name": "python3"
  },
  "language_info": {
   "codemirror_mode": {
    "name": "ipython",
    "version": 3
   },
   "file_extension": ".py",
   "mimetype": "text/x-python",
   "name": "python",
   "nbconvert_exporter": "python",
   "pygments_lexer": "ipython3",
   "version": "3.11.5"
  }
 },
 "nbformat": 4,
 "nbformat_minor": 2
}
