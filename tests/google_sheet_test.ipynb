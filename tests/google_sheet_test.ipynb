{
 "cells": [
  {
   "cell_type": "code",
   "execution_count": 4,
   "metadata": {},
   "outputs": [
    {
     "name": "stdout",
     "output_type": "stream",
     "text": [
      "d:\\breakout-ai\\tests\n"
     ]
    },
    {
     "ename": "ValueError",
     "evalue": "('Unexpected credentials type', None, 'Expected', 'service_account')",
     "output_type": "error",
     "traceback": [
      "\u001b[1;31m---------------------------------------------------------------------------\u001b[0m",
      "\u001b[1;31mValueError\u001b[0m                                Traceback (most recent call last)",
      "Cell \u001b[1;32mIn[4], line 37\u001b[0m\n\u001b[0;32m     35\u001b[0m \u001b[38;5;66;03m# Example usage\u001b[39;00m\n\u001b[0;32m     36\u001b[0m credentials_file \u001b[38;5;241m=\u001b[39m \u001b[38;5;124m'\u001b[39m\u001b[38;5;124mgoogle_credentials.json\u001b[39m\u001b[38;5;124m'\u001b[39m  \u001b[38;5;66;03m# Path to the credentials file\u001b[39;00m\n\u001b[1;32m---> 37\u001b[0m client \u001b[38;5;241m=\u001b[39m \u001b[43mauthenticate_google_sheets\u001b[49m\u001b[43m(\u001b[49m\u001b[43mcredentials_file\u001b[49m\u001b[43m)\u001b[49m\n\u001b[0;32m     39\u001b[0m sheet_url \u001b[38;5;241m=\u001b[39m \u001b[38;5;124m\"\u001b[39m\u001b[38;5;124mhttps://docs.google.com/spreadsheets/d/1hd2oR42iBGp3XZTdsOz6Cs0jnO2jUrToth5-56gs3dc/edit?gid=0#gid=0\u001b[39m\u001b[38;5;124m\"\u001b[39m  \u001b[38;5;66;03m# Provide your sheet URL\u001b[39;00m\n\u001b[0;32m     40\u001b[0m df \u001b[38;5;241m=\u001b[39m get_google_sheet_data(sheet_url)\n",
      "Cell \u001b[1;32mIn[4], line 12\u001b[0m, in \u001b[0;36mauthenticate_google_sheets\u001b[1;34m(credentials_file)\u001b[0m\n\u001b[0;32m      9\u001b[0m scope \u001b[38;5;241m=\u001b[39m [\u001b[38;5;124m\"\u001b[39m\u001b[38;5;124mhttps://spreadsheets.google.com/feeds\u001b[39m\u001b[38;5;124m\"\u001b[39m, \u001b[38;5;124m\"\u001b[39m\u001b[38;5;124mhttps://www.googleapis.com/auth/drive\u001b[39m\u001b[38;5;124m\"\u001b[39m]\n\u001b[0;32m     11\u001b[0m \u001b[38;5;66;03m# Authenticate using the credentials file\u001b[39;00m\n\u001b[1;32m---> 12\u001b[0m creds \u001b[38;5;241m=\u001b[39m \u001b[43mServiceAccountCredentials\u001b[49m\u001b[38;5;241;43m.\u001b[39;49m\u001b[43mfrom_json_keyfile_name\u001b[49m\u001b[43m(\u001b[49m\u001b[43mcredentials_file\u001b[49m\u001b[43m,\u001b[49m\u001b[43m \u001b[49m\u001b[43mscope\u001b[49m\u001b[43m)\u001b[49m\n\u001b[0;32m     14\u001b[0m \u001b[38;5;66;03m# Authorize the client\u001b[39;00m\n\u001b[0;32m     15\u001b[0m client \u001b[38;5;241m=\u001b[39m gspread\u001b[38;5;241m.\u001b[39mauthorize(creds)\n",
      "File \u001b[1;32md:\\breakout-ai\\breakoutenvironmen\\Lib\\site-packages\\oauth2client\\service_account.py:221\u001b[0m, in \u001b[0;36mServiceAccountCredentials.from_json_keyfile_name\u001b[1;34m(cls, filename, scopes, token_uri, revoke_uri)\u001b[0m\n\u001b[0;32m    219\u001b[0m \u001b[38;5;28;01mwith\u001b[39;00m \u001b[38;5;28mopen\u001b[39m(filename, \u001b[38;5;124m'\u001b[39m\u001b[38;5;124mr\u001b[39m\u001b[38;5;124m'\u001b[39m) \u001b[38;5;28;01mas\u001b[39;00m file_obj:\n\u001b[0;32m    220\u001b[0m     client_credentials \u001b[38;5;241m=\u001b[39m json\u001b[38;5;241m.\u001b[39mload(file_obj)\n\u001b[1;32m--> 221\u001b[0m \u001b[38;5;28;01mreturn\u001b[39;00m \u001b[38;5;28;43mcls\u001b[39;49m\u001b[38;5;241;43m.\u001b[39;49m\u001b[43m_from_parsed_json_keyfile\u001b[49m\u001b[43m(\u001b[49m\u001b[43mclient_credentials\u001b[49m\u001b[43m,\u001b[49m\u001b[43m \u001b[49m\u001b[43mscopes\u001b[49m\u001b[43m,\u001b[49m\n\u001b[0;32m    222\u001b[0m \u001b[43m                                     \u001b[49m\u001b[43mtoken_uri\u001b[49m\u001b[38;5;241;43m=\u001b[39;49m\u001b[43mtoken_uri\u001b[49m\u001b[43m,\u001b[49m\n\u001b[0;32m    223\u001b[0m \u001b[43m                                     \u001b[49m\u001b[43mrevoke_uri\u001b[49m\u001b[38;5;241;43m=\u001b[39;49m\u001b[43mrevoke_uri\u001b[49m\u001b[43m)\u001b[49m\n",
      "File \u001b[1;32md:\\breakout-ai\\breakoutenvironmen\\Lib\\site-packages\\oauth2client\\service_account.py:171\u001b[0m, in \u001b[0;36mServiceAccountCredentials._from_parsed_json_keyfile\u001b[1;34m(cls, keyfile_dict, scopes, token_uri, revoke_uri)\u001b[0m\n\u001b[0;32m    169\u001b[0m creds_type \u001b[38;5;241m=\u001b[39m keyfile_dict\u001b[38;5;241m.\u001b[39mget(\u001b[38;5;124m'\u001b[39m\u001b[38;5;124mtype\u001b[39m\u001b[38;5;124m'\u001b[39m)\n\u001b[0;32m    170\u001b[0m \u001b[38;5;28;01mif\u001b[39;00m creds_type \u001b[38;5;241m!=\u001b[39m client\u001b[38;5;241m.\u001b[39mSERVICE_ACCOUNT:\n\u001b[1;32m--> 171\u001b[0m     \u001b[38;5;28;01mraise\u001b[39;00m \u001b[38;5;167;01mValueError\u001b[39;00m(\u001b[38;5;124m'\u001b[39m\u001b[38;5;124mUnexpected credentials type\u001b[39m\u001b[38;5;124m'\u001b[39m, creds_type,\n\u001b[0;32m    172\u001b[0m                      \u001b[38;5;124m'\u001b[39m\u001b[38;5;124mExpected\u001b[39m\u001b[38;5;124m'\u001b[39m, client\u001b[38;5;241m.\u001b[39mSERVICE_ACCOUNT)\n\u001b[0;32m    174\u001b[0m service_account_email \u001b[38;5;241m=\u001b[39m keyfile_dict[\u001b[38;5;124m'\u001b[39m\u001b[38;5;124mclient_email\u001b[39m\u001b[38;5;124m'\u001b[39m]\n\u001b[0;32m    175\u001b[0m private_key_pkcs8_pem \u001b[38;5;241m=\u001b[39m keyfile_dict[\u001b[38;5;124m'\u001b[39m\u001b[38;5;124mprivate_key\u001b[39m\u001b[38;5;124m'\u001b[39m]\n",
      "\u001b[1;31mValueError\u001b[0m: ('Unexpected credentials type', None, 'Expected', 'service_account')"
     ]
    }
   ],
   "source": [
    "import gspread\n",
    "from oauth2client.service_account import ServiceAccountCredentials\n",
    "import pandas as pd\n",
    "import os \n",
    "print(os.getcwd())\n",
    "# Function to authenticate with Google Sheets\n",
    "def authenticate_google_sheets(credentials_file='google_credentials.json'):\n",
    "    # Define the scope of the APIs to be used\n",
    "    scope = [\"https://spreadsheets.google.com/feeds\", \"https://www.googleapis.com/auth/drive\"]\n",
    "    \n",
    "    # Authenticate using the credentials file\n",
    "    creds = ServiceAccountCredentials.from_json_keyfile_name(credentials_file, scope)\n",
    "    \n",
    "    # Authorize the client\n",
    "    client = gspread.authorize(creds)\n",
    "    \n",
    "    return client\n",
    "\n",
    "# Example of fetching data from a Google Sheet\n",
    "def get_google_sheet_data(sheet_url):\n",
    "    # Assuming the sheet URL is in the format of \"https://docs.google.com/spreadsheets/d/{sheet_id}/edit\"\n",
    "    sheet_id = sheet_url.split(\"/\")[5]\n",
    "    \n",
    "    # Open the Google Sheet by ID\n",
    "    sheet = client.open_by_key(sheet_id).sheet1\n",
    "    \n",
    "    # Get all the records (rows) from the sheet\n",
    "    data = sheet.get_all_records()\n",
    "    \n",
    "    # Convert data to a pandas DataFrame\n",
    "    df = pd.DataFrame(data)\n",
    "    \n",
    "    return df\n",
    "\n",
    "# Example usage\n",
    "credentials_file = 'google_credentials.json'  # Path to the credentials file\n",
    "client = authenticate_google_sheets(credentials_file)\n",
    "\n",
    "sheet_url = \"https://docs.google.com/spreadsheets/d/1hd2oR42iBGp3XZTdsOz6Cs0jnO2jUrToth5-56gs3dc/edit?gid=0#gid=0\"  # Provide your sheet URL\n",
    "df = get_google_sheet_data(sheet_url)\n",
    "\n",
    "print(df)\n"
   ]
  },
  {
   "cell_type": "code",
   "execution_count": 1,
   "metadata": {},
   "outputs": [
    {
     "name": "stdout",
     "output_type": "stream",
     "text": [
      "Please visit this URL to authorize this application: https://accounts.google.com/o/oauth2/auth?response_type=code&client_id=455893389767-8853q9lcctl2nrsnt737pj5oefm63i11.apps.googleusercontent.com&redirect_uri=http%3A%2F%2Flocalhost%3A62793%2F&scope=https%3A%2F%2Fwww.googleapis.com%2Fauth%2Fspreadsheets.readonly&state=B7jbZHZATs77bpoikd45wqHsqRHkXD&access_type=offline\n"
     ]
    }
   ],
   "source": [
    "import gspread\n",
    "from google_auth_oauthlib.flow import InstalledAppFlow\n",
    "from google.auth.transport.requests import Request\n",
    "import os\n",
    "import pandas as pd\n",
    "\n",
    "\n",
    "SCOPES = ['https://www.googleapis.com/auth/spreadsheets.readonly']\n",
    "\n",
    "\n",
    "def authenticate_google_sheets_oauth(credentials_file='google_credentials.json'):\n",
    "    creds = None\n",
    "   \n",
    "    if os.path.exists('token.json'):\n",
    "        creds = Credentials.from_authorized_user_file('token.json', SCOPES)\n",
    "    if not creds or not creds.valid:\n",
    "        if creds and creds.expired and creds.refresh_token:\n",
    "            creds.refresh(Request())\n",
    "        else:\n",
    "            flow = InstalledAppFlow.from_client_secrets_file(credentials_file, SCOPES)\n",
    "            creds = flow.run_local_server(port=0)\n",
    "    \n",
    "        with open('token.json', 'w') as token:\n",
    "            token.write(creds.to_json())\n",
    "    return gspread.authorize(creds)\n",
    "\n",
    "def get_google_sheet_data(sheet_url):\n",
    "   \n",
    "    sheet_id = sheet_url.split(\"/\")[5]\n",
    "  \n",
    "    sheet = client.open_by_key(sheet_id).sheet1\n",
    "   \n",
    "    data = sheet.get_all_records()\n",
    " \n",
    "    df = pd.DataFrame(data)\n",
    "    return df\n",
    "\n",
    "client = authenticate_google_sheets_oauth('google_credentials.json')\n",
    "\n",
    "sheet_url = \"https://docs.google.com/spreadsheets/d/1hd2oR42iBGp3XZTdsOz6Cs0jnO2jUrToth5-56gs3dc/edit?gid=0#gid=0\"  # Provide your sheet URL\n",
    "df = get_google_sheet_data(sheet_url)\n",
    "\n",
    "print(df)\n"
   ]
  }
 ],
 "metadata": {
  "kernelspec": {
   "display_name": "breakoutenvironmen",
   "language": "python",
   "name": "python3"
  },
  "language_info": {
   "codemirror_mode": {
    "name": "ipython",
    "version": 3
   },
   "file_extension": ".py",
   "mimetype": "text/x-python",
   "name": "python",
   "nbconvert_exporter": "python",
   "pygments_lexer": "ipython3",
   "version": "3.11.5"
  }
 },
 "nbformat": 4,
 "nbformat_minor": 2
}
